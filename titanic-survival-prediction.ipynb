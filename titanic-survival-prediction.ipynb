{
 "cells": [
  {
   "cell_type": "code",
   "execution_count": 441,
   "id": "db4786fb",
   "metadata": {
    "_cell_guid": "b1076dfc-b9ad-4769-8c92-a6c4dae69d19",
    "_uuid": "8f2839f25d086af736a60e9eeb907d3b93b6e0e5",
    "execution": {
     "iopub.execute_input": "2024-10-21T23:53:05.663498Z",
     "iopub.status.busy": "2024-10-21T23:53:05.662949Z",
     "iopub.status.idle": "2024-10-21T23:53:06.621247Z",
     "shell.execute_reply": "2024-10-21T23:53:06.619720Z"
    },
    "papermill": {
     "duration": 0.979733,
     "end_time": "2024-10-21T23:53:06.624726",
     "exception": false,
     "start_time": "2024-10-21T23:53:05.644993",
     "status": "completed"
    },
    "tags": []
   },
   "outputs": [],
   "source": [
    "# This Python 3 environment comes with many helpful analytics libraries installed\n",
    "# It is defined by the kaggle/python Docker image: https://github.com/kaggle/docker-python\n",
    "# For example, here's several helpful packages to load\n",
    "\n",
    "import numpy as np # linear algebra\n",
    "import pandas as pd # data processing, CSV file I/O (e.g. pd.read_csv)\n",
    "\n",
    "# Input data files are available in the read-only \"../input/\" directory\n",
    "# For example, running this (by clicking run or pressing Shift+Enter) will list all files under the input directory\n",
    "\n",
    "import os\n",
    "for dirname, _, filenames in os.walk('/kaggle/input'):\n",
    "    for filename in filenames:\n",
    "        print(os.path.join(dirname, filename))\n",
    "\n",
    "# You can write up to 20GB to the current directory (/kaggle/working/) that gets preserved as output when you create a version using \"Save & Run All\" \n",
    "# You can also write temporary files to /kaggle/temp/, but they won't be saved outside of the current session"
   ]
  },
  {
   "cell_type": "markdown",
   "id": "92bbc6a0",
   "metadata": {
    "papermill": {
     "duration": 0.015814,
     "end_time": "2024-10-21T23:53:06.658347",
     "exception": false,
     "start_time": "2024-10-21T23:53:06.642533",
     "status": "completed"
    },
    "tags": []
   },
   "source": [
    "# Import Libraries"
   ]
  },
  {
   "cell_type": "code",
   "execution_count": 442,
   "id": "4c12e159",
   "metadata": {
    "execution": {
     "iopub.execute_input": "2024-10-21T23:53:06.694866Z",
     "iopub.status.busy": "2024-10-21T23:53:06.694292Z",
     "iopub.status.idle": "2024-10-21T23:53:09.262731Z",
     "shell.execute_reply": "2024-10-21T23:53:09.261618Z"
    },
    "papermill": {
     "duration": 2.589773,
     "end_time": "2024-10-21T23:53:09.265613",
     "exception": false,
     "start_time": "2024-10-21T23:53:06.675840",
     "status": "completed"
    },
    "tags": []
   },
   "outputs": [],
   "source": [
    "import numpy as np\n",
    "import pandas as pd\n",
    "import matplotlib.pyplot as plt\n",
    "import seaborn as sns\n",
    "import plotly.express as px\n",
    "import warnings\n",
    "\n",
    "# Set the theme for seaborn\n",
    "sns.set_theme()\n",
    "\n",
    "# Suppress warnings\n",
    "warnings.filterwarnings('ignore')"
   ]
  },
  {
   "cell_type": "markdown",
   "id": "73249cbc",
   "metadata": {
    "papermill": {
     "duration": 0.015107,
     "end_time": "2024-10-21T23:53:09.296201",
     "exception": false,
     "start_time": "2024-10-21T23:53:09.281094",
     "status": "completed"
    },
    "tags": []
   },
   "source": [
    "# Get Tha Data"
   ]
  },
  {
   "cell_type": "code",
   "execution_count": 443,
   "id": "2354ac38",
   "metadata": {
    "execution": {
     "iopub.execute_input": "2024-10-21T23:53:09.329629Z",
     "iopub.status.busy": "2024-10-21T23:53:09.329019Z",
     "iopub.status.idle": "2024-10-21T23:53:09.378183Z",
     "shell.execute_reply": "2024-10-21T23:53:09.377019Z"
    },
    "papermill": {
     "duration": 0.069259,
     "end_time": "2024-10-21T23:53:09.380923",
     "exception": false,
     "start_time": "2024-10-21T23:53:09.311664",
     "status": "completed"
    },
    "tags": []
   },
   "outputs": [
    {
     "data": {
      "text/html": [
       "<div>\n",
       "<style scoped>\n",
       "    .dataframe tbody tr th:only-of-type {\n",
       "        vertical-align: middle;\n",
       "    }\n",
       "\n",
       "    .dataframe tbody tr th {\n",
       "        vertical-align: top;\n",
       "    }\n",
       "\n",
       "    .dataframe thead th {\n",
       "        text-align: right;\n",
       "    }\n",
       "</style>\n",
       "<table border=\"1\" class=\"dataframe\">\n",
       "  <thead>\n",
       "    <tr style=\"text-align: right;\">\n",
       "      <th></th>\n",
       "      <th>PassengerId</th>\n",
       "      <th>Survived</th>\n",
       "      <th>Pclass</th>\n",
       "      <th>Name</th>\n",
       "      <th>Sex</th>\n",
       "      <th>Age</th>\n",
       "      <th>SibSp</th>\n",
       "      <th>Parch</th>\n",
       "      <th>Ticket</th>\n",
       "      <th>Fare</th>\n",
       "      <th>Cabin</th>\n",
       "      <th>Embarked</th>\n",
       "    </tr>\n",
       "  </thead>\n",
       "  <tbody>\n",
       "    <tr>\n",
       "      <th>0</th>\n",
       "      <td>1</td>\n",
       "      <td>0</td>\n",
       "      <td>3</td>\n",
       "      <td>Braund, Mr. Owen Harris</td>\n",
       "      <td>male</td>\n",
       "      <td>22.0</td>\n",
       "      <td>1</td>\n",
       "      <td>0</td>\n",
       "      <td>A/5 21171</td>\n",
       "      <td>7.2500</td>\n",
       "      <td>NaN</td>\n",
       "      <td>S</td>\n",
       "    </tr>\n",
       "    <tr>\n",
       "      <th>1</th>\n",
       "      <td>2</td>\n",
       "      <td>1</td>\n",
       "      <td>1</td>\n",
       "      <td>Cumings, Mrs. John Bradley (Florence Briggs Th...</td>\n",
       "      <td>female</td>\n",
       "      <td>38.0</td>\n",
       "      <td>1</td>\n",
       "      <td>0</td>\n",
       "      <td>PC 17599</td>\n",
       "      <td>71.2833</td>\n",
       "      <td>C85</td>\n",
       "      <td>C</td>\n",
       "    </tr>\n",
       "    <tr>\n",
       "      <th>2</th>\n",
       "      <td>3</td>\n",
       "      <td>1</td>\n",
       "      <td>3</td>\n",
       "      <td>Heikkinen, Miss. Laina</td>\n",
       "      <td>female</td>\n",
       "      <td>26.0</td>\n",
       "      <td>0</td>\n",
       "      <td>0</td>\n",
       "      <td>STON/O2. 3101282</td>\n",
       "      <td>7.9250</td>\n",
       "      <td>NaN</td>\n",
       "      <td>S</td>\n",
       "    </tr>\n",
       "    <tr>\n",
       "      <th>3</th>\n",
       "      <td>4</td>\n",
       "      <td>1</td>\n",
       "      <td>1</td>\n",
       "      <td>Futrelle, Mrs. Jacques Heath (Lily May Peel)</td>\n",
       "      <td>female</td>\n",
       "      <td>35.0</td>\n",
       "      <td>1</td>\n",
       "      <td>0</td>\n",
       "      <td>113803</td>\n",
       "      <td>53.1000</td>\n",
       "      <td>C123</td>\n",
       "      <td>S</td>\n",
       "    </tr>\n",
       "    <tr>\n",
       "      <th>4</th>\n",
       "      <td>5</td>\n",
       "      <td>0</td>\n",
       "      <td>3</td>\n",
       "      <td>Allen, Mr. William Henry</td>\n",
       "      <td>male</td>\n",
       "      <td>35.0</td>\n",
       "      <td>0</td>\n",
       "      <td>0</td>\n",
       "      <td>373450</td>\n",
       "      <td>8.0500</td>\n",
       "      <td>NaN</td>\n",
       "      <td>S</td>\n",
       "    </tr>\n",
       "    <tr>\n",
       "      <th>5</th>\n",
       "      <td>6</td>\n",
       "      <td>0</td>\n",
       "      <td>3</td>\n",
       "      <td>Moran, Mr. James</td>\n",
       "      <td>male</td>\n",
       "      <td>NaN</td>\n",
       "      <td>0</td>\n",
       "      <td>0</td>\n",
       "      <td>330877</td>\n",
       "      <td>8.4583</td>\n",
       "      <td>NaN</td>\n",
       "      <td>Q</td>\n",
       "    </tr>\n",
       "    <tr>\n",
       "      <th>6</th>\n",
       "      <td>7</td>\n",
       "      <td>0</td>\n",
       "      <td>1</td>\n",
       "      <td>McCarthy, Mr. Timothy J</td>\n",
       "      <td>male</td>\n",
       "      <td>54.0</td>\n",
       "      <td>0</td>\n",
       "      <td>0</td>\n",
       "      <td>17463</td>\n",
       "      <td>51.8625</td>\n",
       "      <td>E46</td>\n",
       "      <td>S</td>\n",
       "    </tr>\n",
       "    <tr>\n",
       "      <th>7</th>\n",
       "      <td>8</td>\n",
       "      <td>0</td>\n",
       "      <td>3</td>\n",
       "      <td>Palsson, Master. Gosta Leonard</td>\n",
       "      <td>male</td>\n",
       "      <td>2.0</td>\n",
       "      <td>3</td>\n",
       "      <td>1</td>\n",
       "      <td>349909</td>\n",
       "      <td>21.0750</td>\n",
       "      <td>NaN</td>\n",
       "      <td>S</td>\n",
       "    </tr>\n",
       "    <tr>\n",
       "      <th>8</th>\n",
       "      <td>9</td>\n",
       "      <td>1</td>\n",
       "      <td>3</td>\n",
       "      <td>Johnson, Mrs. Oscar W (Elisabeth Vilhelmina Berg)</td>\n",
       "      <td>female</td>\n",
       "      <td>27.0</td>\n",
       "      <td>0</td>\n",
       "      <td>2</td>\n",
       "      <td>347742</td>\n",
       "      <td>11.1333</td>\n",
       "      <td>NaN</td>\n",
       "      <td>S</td>\n",
       "    </tr>\n",
       "    <tr>\n",
       "      <th>9</th>\n",
       "      <td>10</td>\n",
       "      <td>1</td>\n",
       "      <td>2</td>\n",
       "      <td>Nasser, Mrs. Nicholas (Adele Achem)</td>\n",
       "      <td>female</td>\n",
       "      <td>14.0</td>\n",
       "      <td>1</td>\n",
       "      <td>0</td>\n",
       "      <td>237736</td>\n",
       "      <td>30.0708</td>\n",
       "      <td>NaN</td>\n",
       "      <td>C</td>\n",
       "    </tr>\n",
       "  </tbody>\n",
       "</table>\n",
       "</div>"
      ],
      "text/plain": [
       "   PassengerId  Survived  Pclass  \\\n",
       "0            1         0       3   \n",
       "1            2         1       1   \n",
       "2            3         1       3   \n",
       "3            4         1       1   \n",
       "4            5         0       3   \n",
       "5            6         0       3   \n",
       "6            7         0       1   \n",
       "7            8         0       3   \n",
       "8            9         1       3   \n",
       "9           10         1       2   \n",
       "\n",
       "                                                Name     Sex   Age  SibSp  \\\n",
       "0                            Braund, Mr. Owen Harris    male  22.0      1   \n",
       "1  Cumings, Mrs. John Bradley (Florence Briggs Th...  female  38.0      1   \n",
       "2                             Heikkinen, Miss. Laina  female  26.0      0   \n",
       "3       Futrelle, Mrs. Jacques Heath (Lily May Peel)  female  35.0      1   \n",
       "4                           Allen, Mr. William Henry    male  35.0      0   \n",
       "5                                   Moran, Mr. James    male   NaN      0   \n",
       "6                            McCarthy, Mr. Timothy J    male  54.0      0   \n",
       "7                     Palsson, Master. Gosta Leonard    male   2.0      3   \n",
       "8  Johnson, Mrs. Oscar W (Elisabeth Vilhelmina Berg)  female  27.0      0   \n",
       "9                Nasser, Mrs. Nicholas (Adele Achem)  female  14.0      1   \n",
       "\n",
       "   Parch            Ticket     Fare Cabin Embarked  \n",
       "0      0         A/5 21171   7.2500   NaN        S  \n",
       "1      0          PC 17599  71.2833   C85        C  \n",
       "2      0  STON/O2. 3101282   7.9250   NaN        S  \n",
       "3      0            113803  53.1000  C123        S  \n",
       "4      0            373450   8.0500   NaN        S  \n",
       "5      0            330877   8.4583   NaN        Q  \n",
       "6      0             17463  51.8625   E46        S  \n",
       "7      1            349909  21.0750   NaN        S  \n",
       "8      2            347742  11.1333   NaN        S  \n",
       "9      0            237736  30.0708   NaN        C  "
      ]
     },
     "execution_count": 443,
     "metadata": {},
     "output_type": "execute_result"
    }
   ],
   "source": [
    "data = pd.read_csv(\"C:/Users/hpc/OneDrive/Desktop/DT/ML/Titanic Survival Project/train(1).csv\")\n",
    "data.head(10)"
   ]
  },
  {
   "cell_type": "markdown",
   "id": "449811ef",
   "metadata": {
    "papermill": {
     "duration": 0.015615,
     "end_time": "2024-10-21T23:53:09.412306",
     "exception": false,
     "start_time": "2024-10-21T23:53:09.396691",
     "status": "completed"
    },
    "tags": []
   },
   "source": [
    "# Info"
   ]
  },
  {
   "cell_type": "code",
   "execution_count": 444,
   "id": "f1b47486",
   "metadata": {
    "execution": {
     "iopub.execute_input": "2024-10-21T23:53:09.445912Z",
     "iopub.status.busy": "2024-10-21T23:53:09.445525Z",
     "iopub.status.idle": "2024-10-21T23:53:09.472870Z",
     "shell.execute_reply": "2024-10-21T23:53:09.470986Z"
    },
    "papermill": {
     "duration": 0.047627,
     "end_time": "2024-10-21T23:53:09.475484",
     "exception": false,
     "start_time": "2024-10-21T23:53:09.427857",
     "status": "completed"
    },
    "tags": []
   },
   "outputs": [
    {
     "name": "stdout",
     "output_type": "stream",
     "text": [
      "<class 'pandas.core.frame.DataFrame'>\n",
      "RangeIndex: 891 entries, 0 to 890\n",
      "Data columns (total 12 columns):\n",
      " #   Column       Non-Null Count  Dtype  \n",
      "---  ------       --------------  -----  \n",
      " 0   PassengerId  891 non-null    int64  \n",
      " 1   Survived     891 non-null    int64  \n",
      " 2   Pclass       891 non-null    int64  \n",
      " 3   Name         891 non-null    object \n",
      " 4   Sex          891 non-null    object \n",
      " 5   Age          714 non-null    float64\n",
      " 6   SibSp        891 non-null    int64  \n",
      " 7   Parch        891 non-null    int64  \n",
      " 8   Ticket       891 non-null    object \n",
      " 9   Fare         891 non-null    float64\n",
      " 10  Cabin        204 non-null    object \n",
      " 11  Embarked     889 non-null    object \n",
      "dtypes: float64(2), int64(5), object(5)\n",
      "memory usage: 83.7+ KB\n"
     ]
    }
   ],
   "source": [
    "data.info()"
   ]
  },
  {
   "cell_type": "code",
   "execution_count": 445,
   "id": "7a27bd60",
   "metadata": {
    "execution": {
     "iopub.execute_input": "2024-10-21T23:53:09.510301Z",
     "iopub.status.busy": "2024-10-21T23:53:09.509847Z",
     "iopub.status.idle": "2024-10-21T23:53:09.543853Z",
     "shell.execute_reply": "2024-10-21T23:53:09.542517Z"
    },
    "papermill": {
     "duration": 0.0539,
     "end_time": "2024-10-21T23:53:09.546671",
     "exception": false,
     "start_time": "2024-10-21T23:53:09.492771",
     "status": "completed"
    },
    "tags": []
   },
   "outputs": [
    {
     "data": {
      "text/html": [
       "<div>\n",
       "<style scoped>\n",
       "    .dataframe tbody tr th:only-of-type {\n",
       "        vertical-align: middle;\n",
       "    }\n",
       "\n",
       "    .dataframe tbody tr th {\n",
       "        vertical-align: top;\n",
       "    }\n",
       "\n",
       "    .dataframe thead th {\n",
       "        text-align: right;\n",
       "    }\n",
       "</style>\n",
       "<table border=\"1\" class=\"dataframe\">\n",
       "  <thead>\n",
       "    <tr style=\"text-align: right;\">\n",
       "      <th></th>\n",
       "      <th>PassengerId</th>\n",
       "      <th>Survived</th>\n",
       "      <th>Pclass</th>\n",
       "      <th>Age</th>\n",
       "      <th>SibSp</th>\n",
       "      <th>Parch</th>\n",
       "      <th>Fare</th>\n",
       "    </tr>\n",
       "  </thead>\n",
       "  <tbody>\n",
       "    <tr>\n",
       "      <th>count</th>\n",
       "      <td>891.000000</td>\n",
       "      <td>891.000000</td>\n",
       "      <td>891.000000</td>\n",
       "      <td>714.000000</td>\n",
       "      <td>891.000000</td>\n",
       "      <td>891.000000</td>\n",
       "      <td>891.000000</td>\n",
       "    </tr>\n",
       "    <tr>\n",
       "      <th>mean</th>\n",
       "      <td>446.000000</td>\n",
       "      <td>0.383838</td>\n",
       "      <td>2.308642</td>\n",
       "      <td>29.699118</td>\n",
       "      <td>0.523008</td>\n",
       "      <td>0.381594</td>\n",
       "      <td>32.204208</td>\n",
       "    </tr>\n",
       "    <tr>\n",
       "      <th>std</th>\n",
       "      <td>257.353842</td>\n",
       "      <td>0.486592</td>\n",
       "      <td>0.836071</td>\n",
       "      <td>14.526497</td>\n",
       "      <td>1.102743</td>\n",
       "      <td>0.806057</td>\n",
       "      <td>49.693429</td>\n",
       "    </tr>\n",
       "    <tr>\n",
       "      <th>min</th>\n",
       "      <td>1.000000</td>\n",
       "      <td>0.000000</td>\n",
       "      <td>1.000000</td>\n",
       "      <td>0.420000</td>\n",
       "      <td>0.000000</td>\n",
       "      <td>0.000000</td>\n",
       "      <td>0.000000</td>\n",
       "    </tr>\n",
       "    <tr>\n",
       "      <th>25%</th>\n",
       "      <td>223.500000</td>\n",
       "      <td>0.000000</td>\n",
       "      <td>2.000000</td>\n",
       "      <td>20.125000</td>\n",
       "      <td>0.000000</td>\n",
       "      <td>0.000000</td>\n",
       "      <td>7.910400</td>\n",
       "    </tr>\n",
       "    <tr>\n",
       "      <th>50%</th>\n",
       "      <td>446.000000</td>\n",
       "      <td>0.000000</td>\n",
       "      <td>3.000000</td>\n",
       "      <td>28.000000</td>\n",
       "      <td>0.000000</td>\n",
       "      <td>0.000000</td>\n",
       "      <td>14.454200</td>\n",
       "    </tr>\n",
       "    <tr>\n",
       "      <th>75%</th>\n",
       "      <td>668.500000</td>\n",
       "      <td>1.000000</td>\n",
       "      <td>3.000000</td>\n",
       "      <td>38.000000</td>\n",
       "      <td>1.000000</td>\n",
       "      <td>0.000000</td>\n",
       "      <td>31.000000</td>\n",
       "    </tr>\n",
       "    <tr>\n",
       "      <th>max</th>\n",
       "      <td>891.000000</td>\n",
       "      <td>1.000000</td>\n",
       "      <td>3.000000</td>\n",
       "      <td>80.000000</td>\n",
       "      <td>8.000000</td>\n",
       "      <td>6.000000</td>\n",
       "      <td>512.329200</td>\n",
       "    </tr>\n",
       "  </tbody>\n",
       "</table>\n",
       "</div>"
      ],
      "text/plain": [
       "       PassengerId    Survived      Pclass         Age       SibSp  \\\n",
       "count   891.000000  891.000000  891.000000  714.000000  891.000000   \n",
       "mean    446.000000    0.383838    2.308642   29.699118    0.523008   \n",
       "std     257.353842    0.486592    0.836071   14.526497    1.102743   \n",
       "min       1.000000    0.000000    1.000000    0.420000    0.000000   \n",
       "25%     223.500000    0.000000    2.000000   20.125000    0.000000   \n",
       "50%     446.000000    0.000000    3.000000   28.000000    0.000000   \n",
       "75%     668.500000    1.000000    3.000000   38.000000    1.000000   \n",
       "max     891.000000    1.000000    3.000000   80.000000    8.000000   \n",
       "\n",
       "            Parch        Fare  \n",
       "count  891.000000  891.000000  \n",
       "mean     0.381594   32.204208  \n",
       "std      0.806057   49.693429  \n",
       "min      0.000000    0.000000  \n",
       "25%      0.000000    7.910400  \n",
       "50%      0.000000   14.454200  \n",
       "75%      0.000000   31.000000  \n",
       "max      6.000000  512.329200  "
      ]
     },
     "execution_count": 445,
     "metadata": {},
     "output_type": "execute_result"
    }
   ],
   "source": [
    "data.describe()"
   ]
  },
  {
   "cell_type": "code",
   "execution_count": 446,
   "id": "f9a0ff5c",
   "metadata": {
    "execution": {
     "iopub.execute_input": "2024-10-21T23:53:09.581958Z",
     "iopub.status.busy": "2024-10-21T23:53:09.581528Z",
     "iopub.status.idle": "2024-10-21T23:53:09.603484Z",
     "shell.execute_reply": "2024-10-21T23:53:09.602098Z"
    },
    "papermill": {
     "duration": 0.043411,
     "end_time": "2024-10-21T23:53:09.606210",
     "exception": false,
     "start_time": "2024-10-21T23:53:09.562799",
     "status": "completed"
    },
    "tags": []
   },
   "outputs": [
    {
     "data": {
      "text/html": [
       "<div>\n",
       "<style scoped>\n",
       "    .dataframe tbody tr th:only-of-type {\n",
       "        vertical-align: middle;\n",
       "    }\n",
       "\n",
       "    .dataframe tbody tr th {\n",
       "        vertical-align: top;\n",
       "    }\n",
       "\n",
       "    .dataframe thead th {\n",
       "        text-align: right;\n",
       "    }\n",
       "</style>\n",
       "<table border=\"1\" class=\"dataframe\">\n",
       "  <thead>\n",
       "    <tr style=\"text-align: right;\">\n",
       "      <th></th>\n",
       "      <th>Name</th>\n",
       "      <th>Sex</th>\n",
       "      <th>Ticket</th>\n",
       "      <th>Cabin</th>\n",
       "      <th>Embarked</th>\n",
       "    </tr>\n",
       "  </thead>\n",
       "  <tbody>\n",
       "    <tr>\n",
       "      <th>count</th>\n",
       "      <td>891</td>\n",
       "      <td>891</td>\n",
       "      <td>891</td>\n",
       "      <td>204</td>\n",
       "      <td>889</td>\n",
       "    </tr>\n",
       "    <tr>\n",
       "      <th>unique</th>\n",
       "      <td>891</td>\n",
       "      <td>2</td>\n",
       "      <td>681</td>\n",
       "      <td>147</td>\n",
       "      <td>3</td>\n",
       "    </tr>\n",
       "    <tr>\n",
       "      <th>top</th>\n",
       "      <td>Dooley, Mr. Patrick</td>\n",
       "      <td>male</td>\n",
       "      <td>347082</td>\n",
       "      <td>G6</td>\n",
       "      <td>S</td>\n",
       "    </tr>\n",
       "    <tr>\n",
       "      <th>freq</th>\n",
       "      <td>1</td>\n",
       "      <td>577</td>\n",
       "      <td>7</td>\n",
       "      <td>4</td>\n",
       "      <td>644</td>\n",
       "    </tr>\n",
       "  </tbody>\n",
       "</table>\n",
       "</div>"
      ],
      "text/plain": [
       "                       Name   Sex  Ticket Cabin Embarked\n",
       "count                   891   891     891   204      889\n",
       "unique                  891     2     681   147        3\n",
       "top     Dooley, Mr. Patrick  male  347082    G6        S\n",
       "freq                      1   577       7     4      644"
      ]
     },
     "execution_count": 446,
     "metadata": {},
     "output_type": "execute_result"
    }
   ],
   "source": [
    "data.describe(include=\"O\")"
   ]
  },
  {
   "cell_type": "markdown",
   "id": "5c70cf47",
   "metadata": {
    "papermill": {
     "duration": 0.015983,
     "end_time": "2024-10-21T23:53:09.639736",
     "exception": false,
     "start_time": "2024-10-21T23:53:09.623753",
     "status": "completed"
    },
    "tags": []
   },
   "source": [
    "# EDA"
   ]
  },
  {
   "cell_type": "code",
   "execution_count": 447,
   "id": "57279ba3",
   "metadata": {
    "execution": {
     "iopub.execute_input": "2024-10-21T23:53:09.675367Z",
     "iopub.status.busy": "2024-10-21T23:53:09.674935Z",
     "iopub.status.idle": "2024-10-21T23:53:09.685259Z",
     "shell.execute_reply": "2024-10-21T23:53:09.683996Z"
    },
    "papermill": {
     "duration": 0.031253,
     "end_time": "2024-10-21T23:53:09.687802",
     "exception": false,
     "start_time": "2024-10-21T23:53:09.656549",
     "status": "completed"
    },
    "tags": []
   },
   "outputs": [
    {
     "data": {
      "text/plain": [
       "PassengerId    0.000000\n",
       "Survived       0.000000\n",
       "Pclass         0.000000\n",
       "Name           0.000000\n",
       "Sex            0.000000\n",
       "Age            0.198653\n",
       "SibSp          0.000000\n",
       "Parch          0.000000\n",
       "Ticket         0.000000\n",
       "Fare           0.000000\n",
       "Cabin          0.771044\n",
       "Embarked       0.002245\n",
       "dtype: float64"
      ]
     },
     "execution_count": 447,
     "metadata": {},
     "output_type": "execute_result"
    }
   ],
   "source": [
    "data.isna().mean()"
   ]
  },
  {
   "cell_type": "code",
   "execution_count": 448,
   "id": "dbe68539",
   "metadata": {
    "execution": {
     "iopub.execute_input": "2024-10-21T23:53:09.723392Z",
     "iopub.status.busy": "2024-10-21T23:53:09.722928Z",
     "iopub.status.idle": "2024-10-21T23:53:09.733618Z",
     "shell.execute_reply": "2024-10-21T23:53:09.732319Z"
    },
    "papermill": {
     "duration": 0.030727,
     "end_time": "2024-10-21T23:53:09.735967",
     "exception": false,
     "start_time": "2024-10-21T23:53:09.705240",
     "status": "completed"
    },
    "tags": []
   },
   "outputs": [
    {
     "data": {
      "text/plain": [
       "np.int64(0)"
      ]
     },
     "execution_count": 448,
     "metadata": {},
     "output_type": "execute_result"
    }
   ],
   "source": [
    "data.duplicated().sum()"
   ]
  },
  {
   "cell_type": "code",
   "execution_count": 449,
   "id": "63f6decf",
   "metadata": {
    "execution": {
     "iopub.execute_input": "2024-10-21T23:53:09.770417Z",
     "iopub.status.busy": "2024-10-21T23:53:09.770001Z",
     "iopub.status.idle": "2024-10-21T23:53:09.777282Z",
     "shell.execute_reply": "2024-10-21T23:53:09.775900Z"
    },
    "papermill": {
     "duration": 0.027543,
     "end_time": "2024-10-21T23:53:09.779823",
     "exception": false,
     "start_time": "2024-10-21T23:53:09.752280",
     "status": "completed"
    },
    "tags": []
   },
   "outputs": [],
   "source": [
    "# function to visualize by histplot\n",
    "def visualize_histplot(data, column_name, bins=20):\n",
    "    if column_name in data.columns:\n",
    "        plt.figure(figsize=(10, 6))\n",
    "        sns.histplot(data[column_name], bins=bins, kde=True)\n",
    "        plt.xlabel(column_name)\n",
    "        plt.ylabel('Frequency')\n",
    "        plt.title(f'Histogram of {column_name}')\n",
    "        plt.show()\n",
    "    else:\n",
    "        print(f\"Column '{column_name}' doesn't exist in the dataset.\")"
   ]
  },
  {
   "cell_type": "code",
   "execution_count": 450,
   "id": "463c37d9",
   "metadata": {
    "execution": {
     "iopub.execute_input": "2024-10-21T23:53:09.815435Z",
     "iopub.status.busy": "2024-10-21T23:53:09.814794Z",
     "iopub.status.idle": "2024-10-21T23:53:09.822631Z",
     "shell.execute_reply": "2024-10-21T23:53:09.821124Z"
    },
    "papermill": {
     "duration": 0.028757,
     "end_time": "2024-10-21T23:53:09.825645",
     "exception": false,
     "start_time": "2024-10-21T23:53:09.796888",
     "status": "completed"
    },
    "tags": []
   },
   "outputs": [],
   "source": [
    "# function to visualize by countplot\n",
    "def visualize_countplot(data, column_name):\n",
    "    if column_name in data.columns:\n",
    "        plt.figure(figsize=(10, 6))\n",
    "        sns.countplot(data=data, x=column_name, palette=\"Set2\")\n",
    "        plt.xlabel(column_name)\n",
    "        plt.ylabel('Count')\n",
    "        plt.title(f'Count Plot of {column_name}')\n",
    "        plt.show()\n",
    "    else:\n",
    "        print(f\"Column '{column_name}' doesn't exist in the dataset.\")"
   ]
  },
  {
   "cell_type": "code",
   "execution_count": 451,
   "id": "5e55bf1b",
   "metadata": {
    "execution": {
     "iopub.execute_input": "2024-10-21T23:53:09.860940Z",
     "iopub.status.busy": "2024-10-21T23:53:09.860551Z",
     "iopub.status.idle": "2024-10-21T23:53:09.869672Z",
     "shell.execute_reply": "2024-10-21T23:53:09.868455Z"
    },
    "papermill": {
     "duration": 0.029457,
     "end_time": "2024-10-21T23:53:09.872117",
     "exception": false,
     "start_time": "2024-10-21T23:53:09.842660",
     "status": "completed"
    },
    "tags": []
   },
   "outputs": [
    {
     "data": {
      "text/plain": [
       "(2, array([0, 1]))"
      ]
     },
     "execution_count": 451,
     "metadata": {},
     "output_type": "execute_result"
    }
   ],
   "source": [
    "data[\"Survived\"].nunique() , data[\"Survived\"].unique()"
   ]
  },
  {
   "cell_type": "code",
   "execution_count": 452,
   "id": "b1aabefc",
   "metadata": {
    "execution": {
     "iopub.execute_input": "2024-10-21T23:53:09.906767Z",
     "iopub.status.busy": "2024-10-21T23:53:09.906381Z",
     "iopub.status.idle": "2024-10-21T23:53:09.916883Z",
     "shell.execute_reply": "2024-10-21T23:53:09.915611Z"
    },
    "papermill": {
     "duration": 0.030741,
     "end_time": "2024-10-21T23:53:09.919308",
     "exception": false,
     "start_time": "2024-10-21T23:53:09.888567",
     "status": "completed"
    },
    "tags": []
   },
   "outputs": [
    {
     "data": {
      "text/plain": [
       "Survived\n",
       "0    549\n",
       "1    342\n",
       "Name: count, dtype: int64"
      ]
     },
     "execution_count": 452,
     "metadata": {},
     "output_type": "execute_result"
    }
   ],
   "source": [
    "data[\"Survived\"].value_counts()"
   ]
  },
  {
   "cell_type": "code",
   "execution_count": 453,
   "id": "bace13b9",
   "metadata": {
    "execution": {
     "iopub.execute_input": "2024-10-21T23:53:09.954299Z",
     "iopub.status.busy": "2024-10-21T23:53:09.953871Z",
     "iopub.status.idle": "2024-10-21T23:53:10.204668Z",
     "shell.execute_reply": "2024-10-21T23:53:10.203377Z"
    },
    "papermill": {
     "duration": 0.271436,
     "end_time": "2024-10-21T23:53:10.207339",
     "exception": false,
     "start_time": "2024-10-21T23:53:09.935903",
     "status": "completed"
    },
    "tags": []
   },
   "outputs": [
    {
     "data": {
      "image/png": "[encoded data removed]",
      "text/plain": [
       "<Figure size 1000x600 with 1 Axes>"
      ]
     },
     "metadata": {},
     "output_type": "display_data"
    }
   ],
   "source": [
    "visualize_countplot(data, 'Survived')"
   ]
  },
  {
   "cell_type": "markdown",
   "id": "5ed99c3f",
   "metadata": {
    "papermill": {
     "duration": 0.016769,
     "end_time": "2024-10-21T23:53:10.241090",
     "exception": false,
     "start_time": "2024-10-21T23:53:10.224321",
     "status": "completed"
    },
    "tags": []
   },
   "source": [
    "* Most People Not Survived"
   ]
  },
  {
   "cell_type": "code",
   "execution_count": 454,
   "id": "cd29401e",
   "metadata": {
    "execution": {
     "iopub.execute_input": "2024-10-21T23:53:10.277462Z",
     "iopub.status.busy": "2024-10-21T23:53:10.276975Z",
     "iopub.status.idle": "2024-10-21T23:53:10.285668Z",
     "shell.execute_reply": "2024-10-21T23:53:10.284506Z"
    },
    "papermill": {
     "duration": 0.02942,
     "end_time": "2024-10-21T23:53:10.287971",
     "exception": false,
     "start_time": "2024-10-21T23:53:10.258551",
     "status": "completed"
    },
    "tags": []
   },
   "outputs": [
    {
     "data": {
      "text/plain": [
       "(3, array([3, 1, 2]))"
      ]
     },
     "execution_count": 454,
     "metadata": {},
     "output_type": "execute_result"
    }
   ],
   "source": [
    "data[\"Pclass\"].nunique() , data[\"Pclass\"].unique()"
   ]
  },
  {
   "cell_type": "code",
   "execution_count": 455,
   "id": "75e0863f",
   "metadata": {
    "execution": {
     "iopub.execute_input": "2024-10-21T23:53:10.323636Z",
     "iopub.status.busy": "2024-10-21T23:53:10.323212Z",
     "iopub.status.idle": "2024-10-21T23:53:10.332078Z",
     "shell.execute_reply": "2024-10-21T23:53:10.330948Z"
    },
    "papermill": {
     "duration": 0.029501,
     "end_time": "2024-10-21T23:53:10.334350",
     "exception": false,
     "start_time": "2024-10-21T23:53:10.304849",
     "status": "completed"
    },
    "tags": []
   },
   "outputs": [
    {
     "data": {
      "text/plain": [
       "Pclass\n",
       "3    491\n",
       "1    216\n",
       "2    184\n",
       "Name: count, dtype: int64"
      ]
     },
     "execution_count": 455,
     "metadata": {},
     "output_type": "execute_result"
    }
   ],
   "source": [
    "data[\"Pclass\"].value_counts()"
   ]
  },
  {
   "cell_type": "code",
   "execution_count": 456,
   "id": "75d02974",
   "metadata": {
    "execution": {
     "iopub.execute_input": "2024-10-21T23:53:10.370333Z",
     "iopub.status.busy": "2024-10-21T23:53:10.369911Z",
     "iopub.status.idle": "2024-10-21T23:53:10.590926Z",
     "shell.execute_reply": "2024-10-21T23:53:10.589561Z"
    },
    "papermill": {
     "duration": 0.242075,
     "end_time": "2024-10-21T23:53:10.593539",
     "exception": false,
     "start_time": "2024-10-21T23:53:10.351464",
     "status": "completed"
    },
    "tags": []
   },
   "outputs": [
    {
     "data": {
      "image/png": "[encoded data removed]",
      "text/plain": [
       "<Figure size 1000x600 with 1 Axes>"
      ]
     },
     "metadata": {},
     "output_type": "display_data"
    }
   ],
   "source": [
    "visualize_countplot(data, 'Pclass')"
   ]
  },
  {
   "cell_type": "markdown",
   "id": "c324f8bd",
   "metadata": {
    "papermill": {
     "duration": 0.017238,
     "end_time": "2024-10-21T23:53:10.628279",
     "exception": false,
     "start_time": "2024-10-21T23:53:10.611041",
     "status": "completed"
    },
    "tags": []
   },
   "source": [
    "* Most People Was Pclass 3"
   ]
  },
  {
   "cell_type": "code",
   "execution_count": 457,
   "id": "30c382b9",
   "metadata": {
    "execution": {
     "iopub.execute_input": "2024-10-21T23:53:10.665422Z",
     "iopub.status.busy": "2024-10-21T23:53:10.664965Z",
     "iopub.status.idle": "2024-10-21T23:53:11.140386Z",
     "shell.execute_reply": "2024-10-21T23:53:11.138754Z"
    },
    "papermill": {
     "duration": 0.496859,
     "end_time": "2024-10-21T23:53:11.142629",
     "exception": true,
     "start_time": "2024-10-21T23:53:10.645770",
     "status": "failed"
    },
    "tags": []
   },
   "outputs": [
    {
     "data": {
      "text/plain": [
       "np.int64(0)"
      ]
     },
     "execution_count": 457,
     "metadata": {},
     "output_type": "execute_result"
    }
   ],
   "source": [
    "data[\"Name\"].duplicated().sum()"
   ]
  },
  {
   "cell_type": "markdown",
   "id": "cf2d4d43",
   "metadata": {
    "papermill": {
     "duration": null,
     "end_time": null,
     "exception": null,
     "start_time": null,
     "status": "pending"
    },
    "tags": []
   },
   "source": [
    "*We will generate new needed columns from name column after a while*"
   ]
  },
  {
   "cell_type": "code",
   "execution_count": 458,
   "id": "9431cff6",
   "metadata": {
    "execution": {
     "iopub.status.busy": "2024-10-21T23:51:54.725431Z",
     "iopub.status.idle": "2024-10-21T23:51:54.726128Z",
     "shell.execute_reply": "2024-10-21T23:51:54.725909Z",
     "shell.execute_reply.started": "2024-10-21T23:51:54.725882Z"
    },
    "papermill": {
     "duration": null,
     "end_time": null,
     "exception": null,
     "start_time": null,
     "status": "pending"
    },
    "tags": []
   },
   "outputs": [
    {
     "data": {
      "text/plain": [
       "(2, array(['male', 'female'], dtype=object))"
      ]
     },
     "execution_count": 458,
     "metadata": {},
     "output_type": "execute_result"
    }
   ],
   "source": [
    "data[\"Sex\"].nunique() , data[\"Sex\"].unique()"
   ]
  },
  {
   "cell_type": "code",
   "execution_count": 459,
   "id": "223ea038",
   "metadata": {
    "execution": {
     "iopub.status.busy": "2024-10-21T23:51:54.727887Z",
     "iopub.status.idle": "2024-10-21T23:51:54.728398Z",
     "shell.execute_reply": "2024-10-21T23:51:54.728167Z",
     "shell.execute_reply.started": "2024-10-21T23:51:54.728141Z"
    },
    "papermill": {
     "duration": null,
     "end_time": null,
     "exception": null,
     "start_time": null,
     "status": "pending"
    },
    "tags": []
   },
   "outputs": [
    {
     "data": {
      "text/plain": [
       "Sex\n",
       "male      577\n",
       "female    314\n",
       "Name: count, dtype: int64"
      ]
     },
     "execution_count": 459,
     "metadata": {},
     "output_type": "execute_result"
    }
   ],
   "source": [
    "data[\"Sex\"].value_counts()"
   ]
  },
  {
   "cell_type": "code",
   "execution_count": 460,
   "id": "02b335c8",
   "metadata": {
    "execution": {
     "iopub.status.busy": "2024-10-21T23:51:54.730108Z",
     "iopub.status.idle": "2024-10-21T23:51:54.730725Z",
     "shell.execute_reply": "2024-10-21T23:51:54.730453Z",
     "shell.execute_reply.started": "2024-10-21T23:51:54.730422Z"
    },
    "papermill": {
     "duration": null,
     "end_time": null,
     "exception": null,
     "start_time": null,
     "status": "pending"
    },
    "tags": []
   },
   "outputs": [
    {
     "data": {
      "image/png": "[encoded data removed]",
      "text/plain": [
       "<Figure size 1000x600 with 1 Axes>"
      ]
     },
     "metadata": {},
     "output_type": "display_data"
    }
   ],
   "source": [
    "visualize_countplot(data , \"Sex\")"
   ]
  },
  {
   "cell_type": "markdown",
   "id": "008ecdfa",
   "metadata": {
    "papermill": {
     "duration": null,
     "end_time": null,
     "exception": null,
     "start_time": null,
     "status": "pending"
    },
    "tags": []
   },
   "source": [
    "* Most Genre Was Males on the ship"
   ]
  },
  {
   "cell_type": "code",
   "execution_count": 461,
   "id": "ea95d405",
   "metadata": {
    "execution": {
     "iopub.status.busy": "2024-10-21T23:51:54.732964Z",
     "iopub.status.idle": "2024-10-21T23:51:54.733584Z",
     "shell.execute_reply": "2024-10-21T23:51:54.733302Z",
     "shell.execute_reply.started": "2024-10-21T23:51:54.733249Z"
    },
    "papermill": {
     "duration": null,
     "end_time": null,
     "exception": null,
     "start_time": null,
     "status": "pending"
    },
    "tags": []
   },
   "outputs": [
    {
     "data": {
      "text/plain": [
       "(88,\n",
       " array([22.  , 38.  , 26.  , 35.  ,   nan, 54.  ,  2.  , 27.  , 14.  ,\n",
       "         4.  , 58.  , 20.  , 39.  , 55.  , 31.  , 34.  , 15.  , 28.  ,\n",
       "         8.  , 19.  , 40.  , 66.  , 42.  , 21.  , 18.  ,  3.  ,  7.  ,\n",
       "        49.  , 29.  , 65.  , 28.5 ,  5.  , 11.  , 45.  , 17.  , 32.  ,\n",
       "        16.  , 25.  ,  0.83, 30.  , 33.  , 23.  , 24.  , 46.  , 59.  ,\n",
       "        71.  , 37.  , 47.  , 14.5 , 70.5 , 32.5 , 12.  ,  9.  , 36.5 ,\n",
       "        51.  , 55.5 , 40.5 , 44.  ,  1.  , 61.  , 56.  , 50.  , 36.  ,\n",
       "        45.5 , 20.5 , 62.  , 41.  , 52.  , 63.  , 23.5 ,  0.92, 43.  ,\n",
       "        60.  , 10.  , 64.  , 13.  , 48.  ,  0.75, 53.  , 57.  , 80.  ,\n",
       "        70.  , 24.5 ,  6.  ,  0.67, 30.5 ,  0.42, 34.5 , 74.  ]))"
      ]
     },
     "execution_count": 461,
     "metadata": {},
     "output_type": "execute_result"
    }
   ],
   "source": [
    "data[\"Age\"].nunique() , data[\"Age\"].unique()"
   ]
  },
  {
   "cell_type": "code",
   "execution_count": 462,
   "id": "f99e5fe0",
   "metadata": {
    "execution": {
     "iopub.status.busy": "2024-10-21T23:51:54.735494Z",
     "iopub.status.idle": "2024-10-21T23:51:54.736094Z",
     "shell.execute_reply": "2024-10-21T23:51:54.735810Z",
     "shell.execute_reply.started": "2024-10-21T23:51:54.735778Z"
    },
    "papermill": {
     "duration": null,
     "end_time": null,
     "exception": null,
     "start_time": null,
     "status": "pending"
    },
    "tags": []
   },
   "outputs": [
    {
     "data": {
      "image/png": "[encoded data removed]",
      "text/plain": [
       "<Figure size 1000x600 with 1 Axes>"
      ]
     },
     "metadata": {},
     "output_type": "display_data"
    }
   ],
   "source": [
    "visualize_histplot(data , \"Age\")"
   ]
  },
  {
   "cell_type": "markdown",
   "id": "01c64b75",
   "metadata": {
    "papermill": {
     "duration": null,
     "end_time": null,
     "exception": null,
     "start_time": null,
     "status": "pending"
    },
    "tags": []
   },
   "source": [
    "* Most Age People were between 20 & 40 "
   ]
  },
  {
   "cell_type": "code",
   "execution_count": 463,
   "id": "d63829e1",
   "metadata": {
    "execution": {
     "iopub.status.busy": "2024-10-21T23:51:54.738069Z",
     "iopub.status.idle": "2024-10-21T23:51:54.738688Z",
     "shell.execute_reply": "2024-10-21T23:51:54.738408Z",
     "shell.execute_reply.started": "2024-10-21T23:51:54.738377Z"
    },
    "papermill": {
     "duration": null,
     "end_time": null,
     "exception": null,
     "start_time": null,
     "status": "pending"
    },
    "tags": []
   },
   "outputs": [
    {
     "data": {
      "text/plain": [
       "(dtype('float64'), 248)"
      ]
     },
     "execution_count": 463,
     "metadata": {},
     "output_type": "execute_result"
    }
   ],
   "source": [
    "data[\"Fare\"].dtype , data[\"Fare\"].nunique()"
   ]
  },
  {
   "cell_type": "code",
   "execution_count": 464,
   "id": "d08030c1",
   "metadata": {
    "execution": {
     "iopub.status.busy": "2024-10-21T23:51:54.740145Z",
     "iopub.status.idle": "2024-10-21T23:51:54.740691Z",
     "shell.execute_reply": "2024-10-21T23:51:54.740490Z",
     "shell.execute_reply.started": "2024-10-21T23:51:54.740459Z"
    },
    "papermill": {
     "duration": null,
     "end_time": null,
     "exception": null,
     "start_time": null,
     "status": "pending"
    },
    "tags": []
   },
   "outputs": [
    {
     "data": {
      "image/png": "[encoded data removed]",
      "text/plain": [
       "<Figure size 1000x600 with 1 Axes>"
      ]
     },
     "metadata": {},
     "output_type": "display_data"
    }
   ],
   "source": [
    "visualize_histplot(data , \"Fare\")"
   ]
  },
  {
   "cell_type": "markdown",
   "id": "4c3d78e8",
   "metadata": {
    "papermill": {
     "duration": null,
     "end_time": null,
     "exception": null,
     "start_time": null,
     "status": "pending"
    },
    "tags": []
   },
   "source": [
    "* Most Fare Are between 0 and 30 pounds"
   ]
  },
  {
   "cell_type": "code",
   "execution_count": 465,
   "id": "eb500c70",
   "metadata": {
    "execution": {
     "iopub.status.busy": "2024-10-21T23:51:54.742879Z",
     "iopub.status.idle": "2024-10-21T23:51:54.743355Z",
     "shell.execute_reply": "2024-10-21T23:51:54.743124Z",
     "shell.execute_reply.started": "2024-10-21T23:51:54.743102Z"
    },
    "papermill": {
     "duration": null,
     "end_time": null,
     "exception": null,
     "start_time": null,
     "status": "pending"
    },
    "tags": []
   },
   "outputs": [
    {
     "data": {
      "text/plain": [
       "(147,\n",
       " array([nan, 'C85', 'C123', 'E46', 'G6', 'C103', 'D56', 'A6',\n",
       "        'C23 C25 C27', 'B78', 'D33', 'B30', 'C52', 'B28', 'C83', 'F33',\n",
       "        'F G73', 'E31', 'A5', 'D10 D12', 'D26', 'C110', 'B58 B60', 'E101',\n",
       "        'F E69', 'D47', 'B86', 'F2', 'C2', 'E33', 'B19', 'A7', 'C49', 'F4',\n",
       "        'A32', 'B4', 'B80', 'A31', 'D36', 'D15', 'C93', 'C78', 'D35',\n",
       "        'C87', 'B77', 'E67', 'B94', 'C125', 'C99', 'C118', 'D7', 'A19',\n",
       "        'B49', 'D', 'C22 C26', 'C106', 'C65', 'E36', 'C54',\n",
       "        'B57 B59 B63 B66', 'C7', 'E34', 'C32', 'B18', 'C124', 'C91', 'E40',\n",
       "        'T', 'C128', 'D37', 'B35', 'E50', 'C82', 'B96 B98', 'E10', 'E44',\n",
       "        'A34', 'C104', 'C111', 'C92', 'E38', 'D21', 'E12', 'E63', 'A14',\n",
       "        'B37', 'C30', 'D20', 'B79', 'E25', 'D46', 'B73', 'C95', 'B38',\n",
       "        'B39', 'B22', 'C86', 'C70', 'A16', 'C101', 'C68', 'A10', 'E68',\n",
       "        'B41', 'A20', 'D19', 'D50', 'D9', 'A23', 'B50', 'A26', 'D48',\n",
       "        'E58', 'C126', 'B71', 'B51 B53 B55', 'D49', 'B5', 'B20', 'F G63',\n",
       "        'C62 C64', 'E24', 'C90', 'C45', 'E8', 'B101', 'D45', 'C46', 'D30',\n",
       "        'E121', 'D11', 'E77', 'F38', 'B3', 'D6', 'B82 B84', 'D17', 'A36',\n",
       "        'B102', 'B69', 'E49', 'C47', 'D28', 'E17', 'A24', 'C50', 'B42',\n",
       "        'C148'], dtype=object))"
      ]
     },
     "execution_count": 465,
     "metadata": {},
     "output_type": "execute_result"
    }
   ],
   "source": [
    "data[\"Cabin\"].nunique() , data[\"Cabin\"].unique()"
   ]
  },
  {
   "cell_type": "code",
   "execution_count": 466,
   "id": "864206d2",
   "metadata": {
    "execution": {
     "iopub.status.busy": "2024-10-21T23:51:54.749611Z",
     "iopub.status.idle": "2024-10-21T23:51:54.750133Z",
     "shell.execute_reply": "2024-10-21T23:51:54.749884Z",
     "shell.execute_reply.started": "2024-10-21T23:51:54.749862Z"
    },
    "papermill": {
     "duration": null,
     "end_time": null,
     "exception": null,
     "start_time": null,
     "status": "pending"
    },
    "tags": []
   },
   "outputs": [
    {
     "data": {
      "text/plain": [
       "np.float64(0.7710437710437711)"
      ]
     },
     "execution_count": 466,
     "metadata": {},
     "output_type": "execute_result"
    }
   ],
   "source": [
    "data[\"Cabin\"].isna().mean()"
   ]
  },
  {
   "cell_type": "markdown",
   "id": "a5d95ae2",
   "metadata": {
    "papermill": {
     "duration": null,
     "end_time": null,
     "exception": null,
     "start_time": null,
     "status": "pending"
    },
    "tags": []
   },
   "source": [
    "* We will drop this column because over 75% of data are nulls"
   ]
  },
  {
   "cell_type": "code",
   "execution_count": 467,
   "id": "84cc3708",
   "metadata": {
    "execution": {
     "iopub.status.busy": "2024-10-21T23:51:54.752731Z",
     "iopub.status.idle": "2024-10-21T23:51:54.753797Z",
     "shell.execute_reply": "2024-10-21T23:51:54.753583Z",
     "shell.execute_reply.started": "2024-10-21T23:51:54.753555Z"
    },
    "papermill": {
     "duration": null,
     "end_time": null,
     "exception": null,
     "start_time": null,
     "status": "pending"
    },
    "tags": []
   },
   "outputs": [
    {
     "data": {
      "text/plain": [
       "(3, array(['S', 'C', 'Q', nan], dtype=object))"
      ]
     },
     "execution_count": 467,
     "metadata": {},
     "output_type": "execute_result"
    }
   ],
   "source": [
    "data[\"Embarked\"].nunique() , data[\"Embarked\"].unique()"
   ]
  },
  {
   "cell_type": "code",
   "execution_count": 468,
   "id": "96ef8ac4",
   "metadata": {
    "execution": {
     "iopub.status.busy": "2024-10-21T23:51:54.755160Z",
     "iopub.status.idle": "2024-10-21T23:51:54.755624Z",
     "shell.execute_reply": "2024-10-21T23:51:54.755437Z",
     "shell.execute_reply.started": "2024-10-21T23:51:54.755404Z"
    },
    "papermill": {
     "duration": null,
     "end_time": null,
     "exception": null,
     "start_time": null,
     "status": "pending"
    },
    "tags": []
   },
   "outputs": [
    {
     "data": {
      "text/plain": [
       "Embarked\n",
       "S    644\n",
       "C    168\n",
       "Q     77\n",
       "Name: count, dtype: int64"
      ]
     },
     "execution_count": 468,
     "metadata": {},
     "output_type": "execute_result"
    }
   ],
   "source": [
    "data[\"Embarked\"].value_counts()"
   ]
  },
  {
   "cell_type": "code",
   "execution_count": 469,
   "id": "883a5149",
   "metadata": {
    "execution": {
     "iopub.status.busy": "2024-10-21T23:51:54.757077Z",
     "iopub.status.idle": "2024-10-21T23:51:54.757560Z",
     "shell.execute_reply": "2024-10-21T23:51:54.757359Z",
     "shell.execute_reply.started": "2024-10-21T23:51:54.757334Z"
    },
    "papermill": {
     "duration": null,
     "end_time": null,
     "exception": null,
     "start_time": null,
     "status": "pending"
    },
    "tags": []
   },
   "outputs": [
    {
     "data": {
      "image/png": "[encoded data removed]",
      "text/plain": [
       "<Figure size 1000x600 with 1 Axes>"
      ]
     },
     "metadata": {},
     "output_type": "display_data"
    }
   ],
   "source": [
    "visualize_countplot(data , \"Embarked\")"
   ]
  },
  {
   "cell_type": "markdown",
   "id": "0f212e57",
   "metadata": {
    "papermill": {
     "duration": null,
     "end_time": null,
     "exception": null,
     "start_time": null,
     "status": "pending"
    },
    "tags": []
   },
   "source": [
    "* Most Embarked is S"
   ]
  },
  {
   "cell_type": "markdown",
   "id": "f0fe353c",
   "metadata": {
    "papermill": {
     "duration": null,
     "end_time": null,
     "exception": null,
     "start_time": null,
     "status": "pending"
    },
    "tags": []
   },
   "source": [
    "# Some Cleaning"
   ]
  },
  {
   "cell_type": "markdown",
   "id": "eaead3a1",
   "metadata": {
    "papermill": {
     "duration": null,
     "end_time": null,
     "exception": null,
     "start_time": null,
     "status": "pending"
    },
    "tags": []
   },
   "source": [
    "* We need to make the ticket column Numric to make it usable"
   ]
  },
  {
   "cell_type": "code",
   "execution_count": 470,
   "id": "85dcd66d",
   "metadata": {
    "execution": {
     "iopub.status.busy": "2024-10-21T23:51:54.759170Z",
     "iopub.status.idle": "2024-10-21T23:51:54.759638Z",
     "shell.execute_reply": "2024-10-21T23:51:54.759450Z",
     "shell.execute_reply.started": "2024-10-21T23:51:54.759418Z"
    },
    "papermill": {
     "duration": null,
     "end_time": null,
     "exception": null,
     "start_time": null,
     "status": "pending"
    },
    "tags": []
   },
   "outputs": [
    {
     "data": {
      "text/plain": [
       "(681,\n",
       " array(['A/5 21171', 'PC 17599', 'STON/O2. 3101282', '113803', '373450',\n",
       "        '330877', '17463', '349909', '347742', '237736', 'PP 9549',\n",
       "        '113783', 'A/5. 2151', '347082', '350406', '248706', '382652',\n",
       "        '244373', '345763', '2649', '239865', '248698', '330923', '113788',\n",
       "        '347077', '2631', '19950', '330959', '349216', 'PC 17601',\n",
       "        'PC 17569', '335677', 'C.A. 24579', 'PC 17604', '113789', '2677',\n",
       "        'A./5. 2152', '345764', '2651', '7546', '11668', '349253',\n",
       "        'SC/Paris 2123', '330958', 'S.C./A.4. 23567', '370371', '14311',\n",
       "        '2662', '349237', '3101295', 'A/4. 39886', 'PC 17572', '2926',\n",
       "        '113509', '19947', 'C.A. 31026', '2697', 'C.A. 34651', 'CA 2144',\n",
       "        '2669', '113572', '36973', '347088', 'PC 17605', '2661',\n",
       "        'C.A. 29395', 'S.P. 3464', '3101281', '315151', 'C.A. 33111',\n",
       "        'S.O.C. 14879', '2680', '1601', '348123', '349208', '374746',\n",
       "        '248738', '364516', '345767', '345779', '330932', '113059',\n",
       "        'SO/C 14885', '3101278', 'W./C. 6608', 'SOTON/OQ 392086', '343275',\n",
       "        '343276', '347466', 'W.E.P. 5734', 'C.A. 2315', '364500', '374910',\n",
       "        'PC 17754', 'PC 17759', '231919', '244367', '349245', '349215',\n",
       "        '35281', '7540', '3101276', '349207', '343120', '312991', '349249',\n",
       "        '371110', '110465', '2665', '324669', '4136', '2627',\n",
       "        'STON/O 2. 3101294', '370369', 'PC 17558', 'A4. 54510', '27267',\n",
       "        '370372', 'C 17369', '2668', '347061', '349241',\n",
       "        'SOTON/O.Q. 3101307', 'A/5. 3337', '228414', 'C.A. 29178',\n",
       "        'SC/PARIS 2133', '11752', '7534', 'PC 17593', '2678', '347081',\n",
       "        'STON/O2. 3101279', '365222', '231945', 'C.A. 33112', '350043',\n",
       "        '230080', '244310', 'S.O.P. 1166', '113776', 'A.5. 11206',\n",
       "        'A/5. 851', 'Fa 265302', 'PC 17597', '35851', 'SOTON/OQ 392090',\n",
       "        '315037', 'CA. 2343', '371362', 'C.A. 33595', '347068', '315093',\n",
       "        '363291', '113505', 'PC 17318', '111240', 'STON/O 2. 3101280',\n",
       "        '17764', '350404', '4133', 'PC 17595', '250653', 'LINE',\n",
       "        'SC/PARIS 2131', '230136', '315153', '113767', '370365', '111428',\n",
       "        '364849', '349247', '234604', '28424', '350046', 'PC 17610',\n",
       "        '368703', '4579', '370370', '248747', '345770', '3101264', '2628',\n",
       "        'A/5 3540', '347054', '2699', '367231', '112277',\n",
       "        'SOTON/O.Q. 3101311', 'F.C.C. 13528', 'A/5 21174', '250646',\n",
       "        '367229', '35273', 'STON/O2. 3101283', '243847', '11813',\n",
       "        'W/C 14208', 'SOTON/OQ 392089', '220367', '21440', '349234',\n",
       "        '19943', 'PP 4348', 'SW/PP 751', 'A/5 21173', '236171', '347067',\n",
       "        '237442', 'C.A. 29566', 'W./C. 6609', '26707', 'C.A. 31921',\n",
       "        '28665', 'SCO/W 1585', '367230', 'W./C. 14263',\n",
       "        'STON/O 2. 3101275', '2694', '19928', '347071', '250649', '11751',\n",
       "        '244252', '362316', '113514', 'A/5. 3336', '370129', '2650',\n",
       "        'PC 17585', '110152', 'PC 17755', '230433', '384461', '110413',\n",
       "        '112059', '382649', 'C.A. 17248', '347083', 'PC 17582', 'PC 17760',\n",
       "        '113798', '250644', 'PC 17596', '370375', '13502', '347073',\n",
       "        '239853', 'C.A. 2673', '336439', '347464', '345778', 'A/5. 10482',\n",
       "        '113056', '349239', '345774', '349206', '237798', '370373',\n",
       "        '19877', '11967', 'SC/Paris 2163', '349236', '349233', 'PC 17612',\n",
       "        '2693', '113781', '19988', '9234', '367226', '226593', 'A/5 2466',\n",
       "        '17421', 'PC 17758', 'P/PP 3381', 'PC 17485', '11767', 'PC 17608',\n",
       "        '250651', '349243', 'F.C.C. 13529', '347470', '29011', '36928',\n",
       "        '16966', 'A/5 21172', '349219', '234818', '345364', '28551',\n",
       "        '111361', '113043', 'PC 17611', '349225', '7598', '113784',\n",
       "        '248740', '244361', '229236', '248733', '31418', '386525',\n",
       "        'C.A. 37671', '315088', '7267', '113510', '2695', '2647', '345783',\n",
       "        '237671', '330931', '330980', 'SC/PARIS 2167', '2691',\n",
       "        'SOTON/O.Q. 3101310', 'C 7076', '110813', '2626', '14313',\n",
       "        'PC 17477', '11765', '3101267', '323951', 'C 7077', '113503',\n",
       "        '2648', '347069', 'PC 17757', '2653', 'STON/O 2. 3101293',\n",
       "        '349227', '27849', '367655', 'SC 1748', '113760', '350034',\n",
       "        '3101277', '350052', '350407', '28403', '244278', '240929',\n",
       "        'STON/O 2. 3101289', '341826', '4137', '315096', '28664', '347064',\n",
       "        '29106', '312992', '349222', '394140', 'STON/O 2. 3101269',\n",
       "        '343095', '28220', '250652', '28228', '345773', '349254',\n",
       "        'A/5. 13032', '315082', '347080', 'A/4. 34244', '2003', '250655',\n",
       "        '364851', 'SOTON/O.Q. 392078', '110564', '376564', 'SC/AH 3085',\n",
       "        'STON/O 2. 3101274', '13507', 'C.A. 18723', '345769', '347076',\n",
       "        '230434', '65306', '33638', '113794', '2666', '113786', '65303',\n",
       "        '113051', '17453', 'A/5 2817', '349240', '13509', '17464',\n",
       "        'F.C.C. 13531', '371060', '19952', '364506', '111320', '234360',\n",
       "        'A/S 2816', 'SOTON/O.Q. 3101306', '113792', '36209', '323592',\n",
       "        '315089', 'SC/AH Basle 541', '7553', '31027', '3460', '350060',\n",
       "        '3101298', '239854', 'A/5 3594', '4134', '11771', 'A.5. 18509',\n",
       "        '65304', 'SOTON/OQ 3101317', '113787', 'PC 17609', 'A/4 45380',\n",
       "        '36947', 'C.A. 6212', '350035', '315086', '364846', '330909',\n",
       "        '4135', '26360', '111427', 'C 4001', '382651', 'SOTON/OQ 3101316',\n",
       "        'PC 17473', 'PC 17603', '349209', '36967', 'C.A. 34260', '226875',\n",
       "        '349242', '12749', '349252', '2624', '2700', '367232',\n",
       "        'W./C. 14258', 'PC 17483', '3101296', '29104', '2641', '2690',\n",
       "        '315084', '113050', 'PC 17761', '364498', '13568', 'WE/P 5735',\n",
       "        '2908', '693', 'SC/PARIS 2146', '244358', '330979', '2620',\n",
       "        '347085', '113807', '11755', '345572', '372622', '349251',\n",
       "        '218629', 'SOTON/OQ 392082', 'SOTON/O.Q. 392087', 'A/4 48871',\n",
       "        '349205', '2686', '350417', 'S.W./PP 752', '11769', 'PC 17474',\n",
       "        '14312', 'A/4. 20589', '358585', '243880', '2689',\n",
       "        'STON/O 2. 3101286', '237789', '13049', '3411', '237565', '13567',\n",
       "        '14973', 'A./5. 3235', 'STON/O 2. 3101273', 'A/5 3902', '364848',\n",
       "        'SC/AH 29037', '248727', '2664', '349214', '113796', '364511',\n",
       "        '111426', '349910', '349246', '113804', 'SOTON/O.Q. 3101305',\n",
       "        '370377', '364512', '220845', '31028', '2659', '11753', '350029',\n",
       "        '54636', '36963', '219533', '349224', '334912', '27042', '347743',\n",
       "        '13214', '112052', '237668', 'STON/O 2. 3101292', '350050',\n",
       "        '349231', '13213', 'S.O./P.P. 751', 'CA. 2314', '349221', '8475',\n",
       "        '330919', '365226', '349223', '29751', '2623', '5727', '349210',\n",
       "        'STON/O 2. 3101285', '234686', '312993', 'A/5 3536', '19996',\n",
       "        '29750', 'F.C. 12750', 'C.A. 24580', '244270', '239856', '349912',\n",
       "        '342826', '4138', '330935', '6563', '349228', '350036', '24160',\n",
       "        '17474', '349256', '2672', '113800', '248731', '363592', '35852',\n",
       "        '348121', 'PC 17475', '36864', '350025', '223596', 'PC 17476',\n",
       "        'PC 17482', '113028', '7545', '250647', '348124', '34218', '36568',\n",
       "        '347062', '350048', '12233', '250643', '113806', '315094', '36866',\n",
       "        '236853', 'STON/O2. 3101271', '239855', '28425', '233639',\n",
       "        '349201', '349218', '16988', '376566', 'STON/O 2. 3101288',\n",
       "        '250648', '113773', '335097', '29103', '392096', '345780',\n",
       "        '349204', '350042', '29108', '363294', 'SOTON/O2 3101272', '2663',\n",
       "        '347074', '112379', '364850', '8471', '345781', '350047',\n",
       "        'S.O./P.P. 3', '2674', '29105', '347078', '383121', '36865',\n",
       "        '2687', '113501', 'W./C. 6607', 'SOTON/O.Q. 3101312', '374887',\n",
       "        '3101265', '12460', 'PC 17600', '349203', '28213', '17465',\n",
       "        '349244', '2685', '2625', '347089', '347063', '112050', '347087',\n",
       "        '248723', '3474', '28206', '364499', '112058', 'STON/O2. 3101290',\n",
       "        'S.C./PARIS 2079', 'C 7075', '315098', '19972', '368323', '367228',\n",
       "        '2671', '347468', '2223', 'PC 17756', '315097', '392092', '11774',\n",
       "        'SOTON/O2 3101287', '2683', '315090', 'C.A. 5547', '349213',\n",
       "        '347060', 'PC 17592', '392091', '113055', '2629', '350026',\n",
       "        '28134', '17466', '233866', '236852', 'SC/PARIS 2149', 'PC 17590',\n",
       "        '345777', '349248', '695', '345765', '2667', '349212', '349217',\n",
       "        '349257', '7552', 'C.A./SOTON 34068', 'SOTON/OQ 392076', '211536',\n",
       "        '112053', '111369', '370376'], dtype=object))"
      ]
     },
     "execution_count": 470,
     "metadata": {},
     "output_type": "execute_result"
    }
   ],
   "source": [
    "data[\"Ticket\"].nunique() , data[\"Ticket\"].unique() "
   ]
  },
  {
   "cell_type": "code",
   "execution_count": 471,
   "id": "d4f585a1",
   "metadata": {
    "execution": {
     "iopub.status.busy": "2024-10-21T23:51:54.761580Z",
     "iopub.status.idle": "2024-10-21T23:51:54.762013Z",
     "shell.execute_reply": "2024-10-21T23:51:54.761824Z",
     "shell.execute_reply.started": "2024-10-21T23:51:54.761801Z"
    },
    "papermill": {
     "duration": null,
     "end_time": null,
     "exception": null,
     "start_time": null,
     "status": "pending"
    },
    "tags": []
   },
   "outputs": [
    {
     "data": {
      "text/plain": [
       "np.int64(0)"
      ]
     },
     "execution_count": 471,
     "metadata": {},
     "output_type": "execute_result"
    }
   ],
   "source": [
    "data[\"Ticket\"].isna().sum()"
   ]
  },
  {
   "cell_type": "code",
   "execution_count": 472,
   "id": "22e1f0f2",
   "metadata": {
    "execution": {
     "iopub.status.busy": "2024-10-21T23:51:54.763469Z",
     "iopub.status.idle": "2024-10-21T23:51:54.763875Z",
     "shell.execute_reply": "2024-10-21T23:51:54.763698Z",
     "shell.execute_reply.started": "2024-10-21T23:51:54.763676Z"
    },
    "papermill": {
     "duration": null,
     "end_time": null,
     "exception": null,
     "start_time": null,
     "status": "pending"
    },
    "tags": []
   },
   "outputs": [],
   "source": [
    "data[\"Ticket\"] = data[\"Ticket\"].str.extract('(\\d+)') \n",
    "data[\"Ticket\"] = data[\"Ticket\"].astype('Int64')"
   ]
  },
  {
   "cell_type": "code",
   "execution_count": 473,
   "id": "1f6579a5",
   "metadata": {
    "execution": {
     "iopub.status.busy": "2024-10-21T23:51:54.765729Z",
     "iopub.status.idle": "2024-10-21T23:51:54.766172Z",
     "shell.execute_reply": "2024-10-21T23:51:54.765985Z",
     "shell.execute_reply.started": "2024-10-21T23:51:54.765961Z"
    },
    "papermill": {
     "duration": null,
     "end_time": null,
     "exception": null,
     "start_time": null,
     "status": "pending"
    },
    "tags": []
   },
   "outputs": [
    {
     "data": {
      "text/plain": [
       "np.int64(4)"
      ]
     },
     "execution_count": 473,
     "metadata": {},
     "output_type": "execute_result"
    }
   ],
   "source": [
    "data[\"Ticket\"].isna().sum()"
   ]
  },
  {
   "cell_type": "markdown",
   "id": "1375f8c1",
   "metadata": {
    "papermill": {
     "duration": null,
     "end_time": null,
     "exception": null,
     "start_time": null,
     "status": "pending"
    },
    "tags": []
   },
   "source": [
    "*The null values that appeared aren't many*"
   ]
  },
  {
   "cell_type": "code",
   "execution_count": 474,
   "id": "83ec2e91",
   "metadata": {
    "execution": {
     "iopub.status.busy": "2024-10-21T23:51:54.767515Z",
     "iopub.status.idle": "2024-10-21T23:51:54.767941Z",
     "shell.execute_reply": "2024-10-21T23:51:54.767756Z",
     "shell.execute_reply.started": "2024-10-21T23:51:54.767734Z"
    },
    "papermill": {
     "duration": null,
     "end_time": null,
     "exception": null,
     "start_time": null,
     "status": "pending"
    },
    "tags": []
   },
   "outputs": [
    {
     "data": {
      "text/plain": [
       "(635,\n",
       " <IntegerArray>\n",
       " [     5,  17599,      2, 113803, 373450, 330877,  17463, 349909, 347742,\n",
       "  237736,\n",
       "  ...\n",
       "  349212, 349217, 349257,   7552,  34068, 392076, 211536, 112053, 111369,\n",
       "  370376]\n",
       " Length: 636, dtype: Int64)"
      ]
     },
     "execution_count": 474,
     "metadata": {},
     "output_type": "execute_result"
    }
   ],
   "source": [
    "data[\"Ticket\"].nunique() , data[\"Ticket\"].unique() "
   ]
  },
  {
   "cell_type": "code",
   "execution_count": 475,
   "id": "be8e9e14",
   "metadata": {
    "execution": {
     "iopub.status.busy": "2024-10-21T23:51:54.769318Z",
     "iopub.status.idle": "2024-10-21T23:51:54.769731Z",
     "shell.execute_reply": "2024-10-21T23:51:54.769554Z",
     "shell.execute_reply.started": "2024-10-21T23:51:54.769532Z"
    },
    "papermill": {
     "duration": null,
     "end_time": null,
     "exception": null,
     "start_time": null,
     "status": "pending"
    },
    "tags": []
   },
   "outputs": [
    {
     "data": {
      "text/plain": [
       "Ticket\n",
       "5         21\n",
       "2         20\n",
       "4          8\n",
       "1601       7\n",
       "347082     7\n",
       "          ..\n",
       "392091     1\n",
       "17592      1\n",
       "347060     1\n",
       "248706     1\n",
       "350406     1\n",
       "Name: count, Length: 635, dtype: Int64"
      ]
     },
     "execution_count": 475,
     "metadata": {},
     "output_type": "execute_result"
    }
   ],
   "source": [
    "data[\"Ticket\"].value_counts()"
   ]
  },
  {
   "cell_type": "code",
   "execution_count": 476,
   "id": "2147e3c3",
   "metadata": {
    "execution": {
     "iopub.status.busy": "2024-10-21T23:51:54.771547Z",
     "iopub.status.idle": "2024-10-21T23:51:54.772135Z",
     "shell.execute_reply": "2024-10-21T23:51:54.771861Z",
     "shell.execute_reply.started": "2024-10-21T23:51:54.771829Z"
    },
    "papermill": {
     "duration": null,
     "end_time": null,
     "exception": null,
     "start_time": null,
     "status": "pending"
    },
    "tags": []
   },
   "outputs": [
    {
     "data": {
      "image/png": "[encoded data removed]",
      "text/plain": [
       "<Figure size 1000x600 with 1 Axes>"
      ]
     },
     "metadata": {},
     "output_type": "display_data"
    }
   ],
   "source": [
    "visualize_histplot(data , \"Ticket\")"
   ]
  },
  {
   "cell_type": "markdown",
   "id": "65754fe2",
   "metadata": {
    "papermill": {
     "duration": null,
     "end_time": null,
     "exception": null,
     "start_time": null,
     "status": "pending"
    },
    "tags": []
   },
   "source": [
    "# Feature Engineering"
   ]
  },
  {
   "cell_type": "markdown",
   "id": "4c602e4e",
   "metadata": {
    "papermill": {
     "duration": null,
     "end_time": null,
     "exception": null,
     "start_time": null,
     "status": "pending"
    },
    "tags": []
   },
   "source": [
    "* We need to extract Passenger type column from name dolumn\n",
    "* and we need to make a new column(Family Size)  from SibSp & Parch columns\n",
    "* also We need Extract Age category column from Age Column"
   ]
  },
  {
   "cell_type": "code",
   "execution_count": 477,
   "id": "7888914f",
   "metadata": {
    "execution": {
     "iopub.status.busy": "2024-10-21T23:51:54.773995Z",
     "iopub.status.idle": "2024-10-21T23:51:54.774614Z",
     "shell.execute_reply": "2024-10-21T23:51:54.774330Z",
     "shell.execute_reply.started": "2024-10-21T23:51:54.774297Z"
    },
    "papermill": {
     "duration": null,
     "end_time": null,
     "exception": null,
     "start_time": null,
     "status": "pending"
    },
    "tags": []
   },
   "outputs": [
    {
     "data": {
      "text/html": [
       "<div>\n",
       "<style scoped>\n",
       "    .dataframe tbody tr th:only-of-type {\n",
       "        vertical-align: middle;\n",
       "    }\n",
       "\n",
       "    .dataframe tbody tr th {\n",
       "        vertical-align: top;\n",
       "    }\n",
       "\n",
       "    .dataframe thead th {\n",
       "        text-align: right;\n",
       "    }\n",
       "</style>\n",
       "<table border=\"1\" class=\"dataframe\">\n",
       "  <thead>\n",
       "    <tr style=\"text-align: right;\">\n",
       "      <th></th>\n",
       "      <th>PassengerId</th>\n",
       "      <th>Survived</th>\n",
       "      <th>Pclass</th>\n",
       "      <th>Name</th>\n",
       "      <th>Sex</th>\n",
       "      <th>Age</th>\n",
       "      <th>SibSp</th>\n",
       "      <th>Parch</th>\n",
       "      <th>Ticket</th>\n",
       "      <th>Fare</th>\n",
       "      <th>Cabin</th>\n",
       "      <th>Embarked</th>\n",
       "    </tr>\n",
       "  </thead>\n",
       "  <tbody>\n",
       "    <tr>\n",
       "      <th>795</th>\n",
       "      <td>796</td>\n",
       "      <td>0</td>\n",
       "      <td>2</td>\n",
       "      <td>Otter, Mr. Richard</td>\n",
       "      <td>male</td>\n",
       "      <td>39.0</td>\n",
       "      <td>0</td>\n",
       "      <td>0</td>\n",
       "      <td>28213</td>\n",
       "      <td>13.0000</td>\n",
       "      <td>NaN</td>\n",
       "      <td>S</td>\n",
       "    </tr>\n",
       "    <tr>\n",
       "      <th>177</th>\n",
       "      <td>178</td>\n",
       "      <td>0</td>\n",
       "      <td>1</td>\n",
       "      <td>Isham, Miss. Ann Elizabeth</td>\n",
       "      <td>female</td>\n",
       "      <td>50.0</td>\n",
       "      <td>0</td>\n",
       "      <td>0</td>\n",
       "      <td>17595</td>\n",
       "      <td>28.7125</td>\n",
       "      <td>C49</td>\n",
       "      <td>C</td>\n",
       "    </tr>\n",
       "    <tr>\n",
       "      <th>622</th>\n",
       "      <td>623</td>\n",
       "      <td>1</td>\n",
       "      <td>3</td>\n",
       "      <td>Nakid, Mr. Sahid</td>\n",
       "      <td>male</td>\n",
       "      <td>20.0</td>\n",
       "      <td>1</td>\n",
       "      <td>1</td>\n",
       "      <td>2653</td>\n",
       "      <td>15.7417</td>\n",
       "      <td>NaN</td>\n",
       "      <td>C</td>\n",
       "    </tr>\n",
       "    <tr>\n",
       "      <th>235</th>\n",
       "      <td>236</td>\n",
       "      <td>0</td>\n",
       "      <td>3</td>\n",
       "      <td>Harknett, Miss. Alice Phoebe</td>\n",
       "      <td>female</td>\n",
       "      <td>NaN</td>\n",
       "      <td>0</td>\n",
       "      <td>0</td>\n",
       "      <td>6609</td>\n",
       "      <td>7.5500</td>\n",
       "      <td>NaN</td>\n",
       "      <td>S</td>\n",
       "    </tr>\n",
       "    <tr>\n",
       "      <th>368</th>\n",
       "      <td>369</td>\n",
       "      <td>1</td>\n",
       "      <td>3</td>\n",
       "      <td>Jermyn, Miss. Annie</td>\n",
       "      <td>female</td>\n",
       "      <td>NaN</td>\n",
       "      <td>0</td>\n",
       "      <td>0</td>\n",
       "      <td>14313</td>\n",
       "      <td>7.7500</td>\n",
       "      <td>NaN</td>\n",
       "      <td>Q</td>\n",
       "    </tr>\n",
       "  </tbody>\n",
       "</table>\n",
       "</div>"
      ],
      "text/plain": [
       "     PassengerId  Survived  Pclass                          Name     Sex  \\\n",
       "795          796         0       2            Otter, Mr. Richard    male   \n",
       "177          178         0       1    Isham, Miss. Ann Elizabeth  female   \n",
       "622          623         1       3              Nakid, Mr. Sahid    male   \n",
       "235          236         0       3  Harknett, Miss. Alice Phoebe  female   \n",
       "368          369         1       3           Jermyn, Miss. Annie  female   \n",
       "\n",
       "      Age  SibSp  Parch  Ticket     Fare Cabin Embarked  \n",
       "795  39.0      0      0   28213  13.0000   NaN        S  \n",
       "177  50.0      0      0   17595  28.7125   C49        C  \n",
       "622  20.0      1      1    2653  15.7417   NaN        C  \n",
       "235   NaN      0      0    6609   7.5500   NaN        S  \n",
       "368   NaN      0      0   14313   7.7500   NaN        Q  "
      ]
     },
     "execution_count": 477,
     "metadata": {},
     "output_type": "execute_result"
    }
   ],
   "source": [
    "data.sample(5)"
   ]
  },
  {
   "cell_type": "code",
   "execution_count": 478,
   "id": "ddb33764",
   "metadata": {
    "execution": {
     "iopub.status.busy": "2024-10-21T23:51:54.776738Z",
     "iopub.status.idle": "2024-10-21T23:51:54.777338Z",
     "shell.execute_reply": "2024-10-21T23:51:54.777052Z",
     "shell.execute_reply.started": "2024-10-21T23:51:54.777020Z"
    },
    "papermill": {
     "duration": null,
     "end_time": null,
     "exception": null,
     "start_time": null,
     "status": "pending"
    },
    "tags": []
   },
   "outputs": [],
   "source": [
    "# Function to extract title from name using split\n",
    "def extract_title(name):\n",
    "    parts = name.split(',')  # Split the name by comma\n",
    "    if len(parts) > 1:\n",
    "        return parts[1].strip().split('.')[0]\n",
    "    return None"
   ]
  },
  {
   "cell_type": "code",
   "execution_count": 479,
   "id": "59965071",
   "metadata": {
    "execution": {
     "iopub.status.busy": "2024-10-21T23:51:54.779921Z",
     "iopub.status.idle": "2024-10-21T23:51:54.780567Z",
     "shell.execute_reply": "2024-10-21T23:51:54.780289Z",
     "shell.execute_reply.started": "2024-10-21T23:51:54.780239Z"
    },
    "papermill": {
     "duration": null,
     "end_time": null,
     "exception": null,
     "start_time": null,
     "status": "pending"
    },
    "tags": []
   },
   "outputs": [],
   "source": [
    "# Apply the function to create a new column for passenger type\n",
    "data['PassengerType'] = data['Name'].apply(extract_title)"
   ]
  },
  {
   "cell_type": "code",
   "execution_count": 480,
   "id": "6ee86683",
   "metadata": {
    "execution": {
     "iopub.status.busy": "2024-10-21T23:51:54.781925Z",
     "iopub.status.idle": "2024-10-21T23:51:54.782532Z",
     "shell.execute_reply": "2024-10-21T23:51:54.782247Z",
     "shell.execute_reply.started": "2024-10-21T23:51:54.782215Z"
    },
    "papermill": {
     "duration": null,
     "end_time": null,
     "exception": null,
     "start_time": null,
     "status": "pending"
    },
    "tags": []
   },
   "outputs": [
    {
     "data": {
      "text/plain": [
       "(17,\n",
       " array(['Mr', 'Mrs', 'Miss', 'Master', 'Don', 'Rev', 'Dr', 'Mme', 'Ms',\n",
       "        'Major', 'Lady', 'Sir', 'Mlle', 'Col', 'Capt', 'the Countess',\n",
       "        'Jonkheer'], dtype=object))"
      ]
     },
     "execution_count": 480,
     "metadata": {},
     "output_type": "execute_result"
    }
   ],
   "source": [
    "data['PassengerType'].nunique() , data['PassengerType'].unique()"
   ]
  },
  {
   "cell_type": "code",
   "execution_count": 481,
   "id": "b9b73856",
   "metadata": {
    "execution": {
     "iopub.status.busy": "2024-10-21T23:51:54.784064Z",
     "iopub.status.idle": "2024-10-21T23:51:54.784530Z",
     "shell.execute_reply": "2024-10-21T23:51:54.784339Z",
     "shell.execute_reply.started": "2024-10-21T23:51:54.784315Z"
    },
    "papermill": {
     "duration": null,
     "end_time": null,
     "exception": null,
     "start_time": null,
     "status": "pending"
    },
    "tags": []
   },
   "outputs": [
    {
     "data": {
      "text/plain": [
       "np.int64(0)"
      ]
     },
     "execution_count": 481,
     "metadata": {},
     "output_type": "execute_result"
    }
   ],
   "source": [
    "data['PassengerType'].isna().sum()"
   ]
  },
  {
   "cell_type": "code",
   "execution_count": 482,
   "id": "9a7ae4a2",
   "metadata": {
    "execution": {
     "iopub.status.busy": "2024-10-21T23:51:54.786009Z",
     "iopub.status.idle": "2024-10-21T23:51:54.786545Z",
     "shell.execute_reply": "2024-10-21T23:51:54.786342Z",
     "shell.execute_reply.started": "2024-10-21T23:51:54.786313Z"
    },
    "papermill": {
     "duration": null,
     "end_time": null,
     "exception": null,
     "start_time": null,
     "status": "pending"
    },
    "tags": []
   },
   "outputs": [
    {
     "data": {
      "image/png": "[encoded data removed]",
      "text/plain": [
       "<Figure size 1000x600 with 1 Axes>"
      ]
     },
     "metadata": {},
     "output_type": "display_data"
    }
   ],
   "source": [
    "visualize_countplot(data , \"PassengerType\")"
   ]
  },
  {
   "cell_type": "markdown",
   "id": "fbf6dfe6",
   "metadata": {
    "papermill": {
     "duration": null,
     "end_time": null,
     "exception": null,
     "start_time": null,
     "status": "pending"
    },
    "tags": []
   },
   "source": [
    "* The Mr is most Passenger Type"
   ]
  },
  {
   "cell_type": "code",
   "execution_count": 483,
   "id": "cdcbfa8c",
   "metadata": {
    "execution": {
     "iopub.status.busy": "2024-10-21T23:51:54.788886Z",
     "iopub.status.idle": "2024-10-21T23:51:54.789503Z",
     "shell.execute_reply": "2024-10-21T23:51:54.789208Z",
     "shell.execute_reply.started": "2024-10-21T23:51:54.789175Z"
    },
    "papermill": {
     "duration": null,
     "end_time": null,
     "exception": null,
     "start_time": null,
     "status": "pending"
    },
    "tags": []
   },
   "outputs": [],
   "source": [
    "# Get A Familysize column\n",
    "data[\"FamilySize\"] = data[\"SibSp\"] + data[\"Parch\"] +1"
   ]
  },
  {
   "cell_type": "code",
   "execution_count": 484,
   "id": "22894f11",
   "metadata": {
    "execution": {
     "iopub.status.busy": "2024-10-21T23:51:54.791730Z",
     "iopub.status.idle": "2024-10-21T23:51:54.792325Z",
     "shell.execute_reply": "2024-10-21T23:51:54.792036Z",
     "shell.execute_reply.started": "2024-10-21T23:51:54.792003Z"
    },
    "papermill": {
     "duration": null,
     "end_time": null,
     "exception": null,
     "start_time": null,
     "status": "pending"
    },
    "tags": []
   },
   "outputs": [
    {
     "data": {
      "text/plain": [
       "np.int64(0)"
      ]
     },
     "execution_count": 484,
     "metadata": {},
     "output_type": "execute_result"
    }
   ],
   "source": [
    "data[\"FamilySize\"].isna().sum()"
   ]
  },
  {
   "cell_type": "code",
   "execution_count": 485,
   "id": "e539d1fe",
   "metadata": {
    "execution": {
     "iopub.execute_input": "2024-10-21T23:51:54.800409Z",
     "iopub.status.busy": "2024-10-21T23:51:54.799834Z",
     "iopub.status.idle": "2024-10-21T23:51:54.811619Z",
     "shell.execute_reply": "2024-10-21T23:51:54.808141Z",
     "shell.execute_reply.started": "2024-10-21T23:51:54.800339Z"
    },
    "papermill": {
     "duration": null,
     "end_time": null,
     "exception": null,
     "start_time": null,
     "status": "pending"
    },
    "tags": []
   },
   "outputs": [
    {
     "data": {
      "image/png": "[encoded data removed]",
      "text/plain": [
       "<Figure size 1000x600 with 1 Axes>"
      ]
     },
     "metadata": {},
     "output_type": "display_data"
    }
   ],
   "source": [
    "visualize_countplot(data , \"FamilySize\")"
   ]
  },
  {
   "cell_type": "markdown",
   "id": "742e3bb6",
   "metadata": {
    "papermill": {
     "duration": null,
     "end_time": null,
     "exception": null,
     "start_time": null,
     "status": "pending"
    },
    "tags": []
   },
   "source": [
    "* Most Passengers are alone"
   ]
  },
  {
   "cell_type": "code",
   "execution_count": 486,
   "id": "2081904e",
   "metadata": {
    "execution": {
     "iopub.execute_input": "2024-10-21T23:51:54.816156Z",
     "iopub.status.busy": "2024-10-21T23:51:54.815308Z",
     "iopub.status.idle": "2024-10-21T23:51:54.824309Z",
     "shell.execute_reply": "2024-10-21T23:51:54.822987Z",
     "shell.execute_reply.started": "2024-10-21T23:51:54.816098Z"
    },
    "papermill": {
     "duration": null,
     "end_time": null,
     "exception": null,
     "start_time": null,
     "status": "pending"
    },
    "tags": []
   },
   "outputs": [],
   "source": [
    "# Function to categorize age\n",
    "def categorize_age(age):\n",
    "    if pd.isna(age):\n",
    "        return 'Unknown'\n",
    "    elif age < 13:\n",
    "        return 'Child'\n",
    "    elif 13 <= age < 20:\n",
    "        return 'Teenager'\n",
    "    elif 20 <= age < 40:\n",
    "        return 'Adult'\n",
    "    elif 40 <= age < 60:\n",
    "        return 'Middle Age'\n",
    "    else:\n",
    "        return 'Senior'"
   ]
  },
  {
   "cell_type": "code",
   "execution_count": 487,
   "id": "5b7a343c",
   "metadata": {
    "execution": {
     "iopub.execute_input": "2024-10-21T23:51:54.826817Z",
     "iopub.status.busy": "2024-10-21T23:51:54.826202Z",
     "iopub.status.idle": "2024-10-21T23:51:54.840876Z",
     "shell.execute_reply": "2024-10-21T23:51:54.839348Z",
     "shell.execute_reply.started": "2024-10-21T23:51:54.826759Z"
    },
    "papermill": {
     "duration": null,
     "end_time": null,
     "exception": null,
     "start_time": null,
     "status": "pending"
    },
    "tags": []
   },
   "outputs": [],
   "source": [
    "# Apply the function to create a new column for age categories\n",
    "data['AgeCategory'] = data['Age'].apply(categorize_age)"
   ]
  },
  {
   "cell_type": "code",
   "execution_count": 488,
   "id": "65ccd7bd",
   "metadata": {
    "execution": {
     "iopub.execute_input": "2024-10-21T23:51:54.844679Z",
     "iopub.status.busy": "2024-10-21T23:51:54.844203Z",
     "iopub.status.idle": "2024-10-21T23:51:54.857957Z",
     "shell.execute_reply": "2024-10-21T23:51:54.856651Z",
     "shell.execute_reply.started": "2024-10-21T23:51:54.844634Z"
    },
    "papermill": {
     "duration": null,
     "end_time": null,
     "exception": null,
     "start_time": null,
     "status": "pending"
    },
    "tags": []
   },
   "outputs": [
    {
     "data": {
      "text/plain": [
       "(6,\n",
       " array(['Adult', 'Unknown', 'Middle Age', 'Child', 'Teenager', 'Senior'],\n",
       "       dtype=object))"
      ]
     },
     "execution_count": 488,
     "metadata": {},
     "output_type": "execute_result"
    }
   ],
   "source": [
    "data['AgeCategory'].nunique() , data['AgeCategory'].unique()"
   ]
  },
  {
   "cell_type": "code",
   "execution_count": 489,
   "id": "d7723dff",
   "metadata": {
    "execution": {
     "iopub.execute_input": "2024-10-21T23:51:54.860062Z",
     "iopub.status.busy": "2024-10-21T23:51:54.859643Z",
     "iopub.status.idle": "2024-10-21T23:51:54.870488Z",
     "shell.execute_reply": "2024-10-21T23:51:54.869317Z",
     "shell.execute_reply.started": "2024-10-21T23:51:54.860020Z"
    },
    "papermill": {
     "duration": null,
     "end_time": null,
     "exception": null,
     "start_time": null,
     "status": "pending"
    },
    "tags": []
   },
   "outputs": [
    {
     "data": {
      "text/plain": [
       "np.int64(0)"
      ]
     },
     "execution_count": 489,
     "metadata": {},
     "output_type": "execute_result"
    }
   ],
   "source": [
    "data['AgeCategory'].isna().sum()"
   ]
  },
  {
   "cell_type": "code",
   "execution_count": 490,
   "id": "09937737",
   "metadata": {
    "execution": {
     "iopub.execute_input": "2024-10-21T23:51:54.872919Z",
     "iopub.status.busy": "2024-10-21T23:51:54.872359Z",
     "iopub.status.idle": "2024-10-21T23:51:55.249678Z",
     "shell.execute_reply": "2024-10-21T23:51:55.248484Z",
     "shell.execute_reply.started": "2024-10-21T23:51:54.872862Z"
    },
    "papermill": {
     "duration": null,
     "end_time": null,
     "exception": null,
     "start_time": null,
     "status": "pending"
    },
    "tags": []
   },
   "outputs": [
    {
     "data": {
      "image/png": "[encoded data removed]",
      "text/plain": [
       "<Figure size 1000x600 with 1 Axes>"
      ]
     },
     "metadata": {},
     "output_type": "display_data"
    }
   ],
   "source": [
    "visualize_countplot(data , \"AgeCategory\")"
   ]
  },
  {
   "cell_type": "markdown",
   "id": "25a2163c",
   "metadata": {
    "papermill": {
     "duration": null,
     "end_time": null,
     "exception": null,
     "start_time": null,
     "status": "pending"
    },
    "tags": []
   },
   "source": [
    "* Most Passengers Were Adults"
   ]
  },
  {
   "cell_type": "markdown",
   "id": "6294f888",
   "metadata": {
    "papermill": {
     "duration": null,
     "end_time": null,
     "exception": null,
     "start_time": null,
     "status": "pending"
    },
    "tags": []
   },
   "source": [
    "# Drop Columnns"
   ]
  },
  {
   "cell_type": "code",
   "execution_count": 491,
   "id": "4b378cbd",
   "metadata": {
    "execution": {
     "iopub.execute_input": "2024-10-21T23:51:55.252984Z",
     "iopub.status.busy": "2024-10-21T23:51:55.252597Z",
     "iopub.status.idle": "2024-10-21T23:51:55.270532Z",
     "shell.execute_reply": "2024-10-21T23:51:55.269115Z",
     "shell.execute_reply.started": "2024-10-21T23:51:55.252941Z"
    },
    "papermill": {
     "duration": null,
     "end_time": null,
     "exception": null,
     "start_time": null,
     "status": "pending"
    },
    "tags": []
   },
   "outputs": [
    {
     "data": {
      "text/html": [
       "<div>\n",
       "<style scoped>\n",
       "    .dataframe tbody tr th:only-of-type {\n",
       "        vertical-align: middle;\n",
       "    }\n",
       "\n",
       "    .dataframe tbody tr th {\n",
       "        vertical-align: top;\n",
       "    }\n",
       "\n",
       "    .dataframe thead th {\n",
       "        text-align: right;\n",
       "    }\n",
       "</style>\n",
       "<table border=\"1\" class=\"dataframe\">\n",
       "  <thead>\n",
       "    <tr style=\"text-align: right;\">\n",
       "      <th></th>\n",
       "      <th>PassengerId</th>\n",
       "      <th>Survived</th>\n",
       "      <th>Pclass</th>\n",
       "      <th>Name</th>\n",
       "      <th>Sex</th>\n",
       "      <th>Age</th>\n",
       "      <th>SibSp</th>\n",
       "      <th>Parch</th>\n",
       "      <th>Ticket</th>\n",
       "      <th>Fare</th>\n",
       "      <th>Cabin</th>\n",
       "      <th>Embarked</th>\n",
       "      <th>PassengerType</th>\n",
       "      <th>FamilySize</th>\n",
       "      <th>AgeCategory</th>\n",
       "    </tr>\n",
       "  </thead>\n",
       "  <tbody>\n",
       "    <tr>\n",
       "      <th>776</th>\n",
       "      <td>777</td>\n",
       "      <td>0</td>\n",
       "      <td>3</td>\n",
       "      <td>Tobin, Mr. Roger</td>\n",
       "      <td>male</td>\n",
       "      <td>NaN</td>\n",
       "      <td>0</td>\n",
       "      <td>0</td>\n",
       "      <td>383121</td>\n",
       "      <td>7.75</td>\n",
       "      <td>F38</td>\n",
       "      <td>Q</td>\n",
       "      <td>Mr</td>\n",
       "      <td>1</td>\n",
       "      <td>Unknown</td>\n",
       "    </tr>\n",
       "  </tbody>\n",
       "</table>\n",
       "</div>"
      ],
      "text/plain": [
       "     PassengerId  Survived  Pclass              Name   Sex  Age  SibSp  Parch  \\\n",
       "776          777         0       3  Tobin, Mr. Roger  male  NaN      0      0   \n",
       "\n",
       "     Ticket  Fare Cabin Embarked PassengerType  FamilySize AgeCategory  \n",
       "776  383121  7.75   F38        Q            Mr           1     Unknown  "
      ]
     },
     "execution_count": 491,
     "metadata": {},
     "output_type": "execute_result"
    }
   ],
   "source": [
    "data.sample()"
   ]
  },
  {
   "cell_type": "code",
   "execution_count": 492,
   "id": "7676d013",
   "metadata": {
    "execution": {
     "iopub.execute_input": "2024-10-21T23:51:55.272581Z",
     "iopub.status.busy": "2024-10-21T23:51:55.272090Z",
     "iopub.status.idle": "2024-10-21T23:51:55.295518Z",
     "shell.execute_reply": "2024-10-21T23:51:55.294339Z",
     "shell.execute_reply.started": "2024-10-21T23:51:55.272526Z"
    },
    "papermill": {
     "duration": null,
     "end_time": null,
     "exception": null,
     "start_time": null,
     "status": "pending"
    },
    "tags": []
   },
   "outputs": [
    {
     "data": {
      "text/html": [
       "<div>\n",
       "<style scoped>\n",
       "    .dataframe tbody tr th:only-of-type {\n",
       "        vertical-align: middle;\n",
       "    }\n",
       "\n",
       "    .dataframe tbody tr th {\n",
       "        vertical-align: top;\n",
       "    }\n",
       "\n",
       "    .dataframe thead th {\n",
       "        text-align: right;\n",
       "    }\n",
       "</style>\n",
       "<table border=\"1\" class=\"dataframe\">\n",
       "  <thead>\n",
       "    <tr style=\"text-align: right;\">\n",
       "      <th></th>\n",
       "      <th>Survived</th>\n",
       "      <th>Pclass</th>\n",
       "      <th>Sex</th>\n",
       "      <th>Age</th>\n",
       "      <th>SibSp</th>\n",
       "      <th>Parch</th>\n",
       "      <th>Ticket</th>\n",
       "      <th>Fare</th>\n",
       "      <th>Embarked</th>\n",
       "      <th>PassengerType</th>\n",
       "      <th>FamilySize</th>\n",
       "      <th>AgeCategory</th>\n",
       "    </tr>\n",
       "  </thead>\n",
       "  <tbody>\n",
       "    <tr>\n",
       "      <th>0</th>\n",
       "      <td>0</td>\n",
       "      <td>3</td>\n",
       "      <td>male</td>\n",
       "      <td>22.0</td>\n",
       "      <td>1</td>\n",
       "      <td>0</td>\n",
       "      <td>5</td>\n",
       "      <td>7.2500</td>\n",
       "      <td>S</td>\n",
       "      <td>Mr</td>\n",
       "      <td>2</td>\n",
       "      <td>Adult</td>\n",
       "    </tr>\n",
       "    <tr>\n",
       "      <th>1</th>\n",
       "      <td>1</td>\n",
       "      <td>1</td>\n",
       "      <td>female</td>\n",
       "      <td>38.0</td>\n",
       "      <td>1</td>\n",
       "      <td>0</td>\n",
       "      <td>17599</td>\n",
       "      <td>71.2833</td>\n",
       "      <td>C</td>\n",
       "      <td>Mrs</td>\n",
       "      <td>2</td>\n",
       "      <td>Adult</td>\n",
       "    </tr>\n",
       "    <tr>\n",
       "      <th>2</th>\n",
       "      <td>1</td>\n",
       "      <td>3</td>\n",
       "      <td>female</td>\n",
       "      <td>26.0</td>\n",
       "      <td>0</td>\n",
       "      <td>0</td>\n",
       "      <td>2</td>\n",
       "      <td>7.9250</td>\n",
       "      <td>S</td>\n",
       "      <td>Miss</td>\n",
       "      <td>1</td>\n",
       "      <td>Adult</td>\n",
       "    </tr>\n",
       "    <tr>\n",
       "      <th>3</th>\n",
       "      <td>1</td>\n",
       "      <td>1</td>\n",
       "      <td>female</td>\n",
       "      <td>35.0</td>\n",
       "      <td>1</td>\n",
       "      <td>0</td>\n",
       "      <td>113803</td>\n",
       "      <td>53.1000</td>\n",
       "      <td>S</td>\n",
       "      <td>Mrs</td>\n",
       "      <td>2</td>\n",
       "      <td>Adult</td>\n",
       "    </tr>\n",
       "    <tr>\n",
       "      <th>4</th>\n",
       "      <td>0</td>\n",
       "      <td>3</td>\n",
       "      <td>male</td>\n",
       "      <td>35.0</td>\n",
       "      <td>0</td>\n",
       "      <td>0</td>\n",
       "      <td>373450</td>\n",
       "      <td>8.0500</td>\n",
       "      <td>S</td>\n",
       "      <td>Mr</td>\n",
       "      <td>1</td>\n",
       "      <td>Adult</td>\n",
       "    </tr>\n",
       "    <tr>\n",
       "      <th>...</th>\n",
       "      <td>...</td>\n",
       "      <td>...</td>\n",
       "      <td>...</td>\n",
       "      <td>...</td>\n",
       "      <td>...</td>\n",
       "      <td>...</td>\n",
       "      <td>...</td>\n",
       "      <td>...</td>\n",
       "      <td>...</td>\n",
       "      <td>...</td>\n",
       "      <td>...</td>\n",
       "      <td>...</td>\n",
       "    </tr>\n",
       "    <tr>\n",
       "      <th>886</th>\n",
       "      <td>0</td>\n",
       "      <td>2</td>\n",
       "      <td>male</td>\n",
       "      <td>27.0</td>\n",
       "      <td>0</td>\n",
       "      <td>0</td>\n",
       "      <td>211536</td>\n",
       "      <td>13.0000</td>\n",
       "      <td>S</td>\n",
       "      <td>Rev</td>\n",
       "      <td>1</td>\n",
       "      <td>Adult</td>\n",
       "    </tr>\n",
       "    <tr>\n",
       "      <th>887</th>\n",
       "      <td>1</td>\n",
       "      <td>1</td>\n",
       "      <td>female</td>\n",
       "      <td>19.0</td>\n",
       "      <td>0</td>\n",
       "      <td>0</td>\n",
       "      <td>112053</td>\n",
       "      <td>30.0000</td>\n",
       "      <td>S</td>\n",
       "      <td>Miss</td>\n",
       "      <td>1</td>\n",
       "      <td>Teenager</td>\n",
       "    </tr>\n",
       "    <tr>\n",
       "      <th>888</th>\n",
       "      <td>0</td>\n",
       "      <td>3</td>\n",
       "      <td>female</td>\n",
       "      <td>NaN</td>\n",
       "      <td>1</td>\n",
       "      <td>2</td>\n",
       "      <td>6607</td>\n",
       "      <td>23.4500</td>\n",
       "      <td>S</td>\n",
       "      <td>Miss</td>\n",
       "      <td>4</td>\n",
       "      <td>Unknown</td>\n",
       "    </tr>\n",
       "    <tr>\n",
       "      <th>889</th>\n",
       "      <td>1</td>\n",
       "      <td>1</td>\n",
       "      <td>male</td>\n",
       "      <td>26.0</td>\n",
       "      <td>0</td>\n",
       "      <td>0</td>\n",
       "      <td>111369</td>\n",
       "      <td>30.0000</td>\n",
       "      <td>C</td>\n",
       "      <td>Mr</td>\n",
       "      <td>1</td>\n",
       "      <td>Adult</td>\n",
       "    </tr>\n",
       "    <tr>\n",
       "      <th>890</th>\n",
       "      <td>0</td>\n",
       "      <td>3</td>\n",
       "      <td>male</td>\n",
       "      <td>32.0</td>\n",
       "      <td>0</td>\n",
       "      <td>0</td>\n",
       "      <td>370376</td>\n",
       "      <td>7.7500</td>\n",
       "      <td>Q</td>\n",
       "      <td>Mr</td>\n",
       "      <td>1</td>\n",
       "      <td>Adult</td>\n",
       "    </tr>\n",
       "  </tbody>\n",
       "</table>\n",
       "<p>891 rows × 12 columns</p>\n",
       "</div>"
      ],
      "text/plain": [
       "     Survived  Pclass     Sex   Age  SibSp  Parch  Ticket     Fare Embarked  \\\n",
       "0           0       3    male  22.0      1      0       5   7.2500        S   \n",
       "1           1       1  female  38.0      1      0   17599  71.2833        C   \n",
       "2           1       3  female  26.0      0      0       2   7.9250        S   \n",
       "3           1       1  female  35.0      1      0  113803  53.1000        S   \n",
       "4           0       3    male  35.0      0      0  373450   8.0500        S   \n",
       "..        ...     ...     ...   ...    ...    ...     ...      ...      ...   \n",
       "886         0       2    male  27.0      0      0  211536  13.0000        S   \n",
       "887         1       1  female  19.0      0      0  112053  30.0000        S   \n",
       "888         0       3  female   NaN      1      2    6607  23.4500        S   \n",
       "889         1       1    male  26.0      0      0  111369  30.0000        C   \n",
       "890         0       3    male  32.0      0      0  370376   7.7500        Q   \n",
       "\n",
       "    PassengerType  FamilySize AgeCategory  \n",
       "0              Mr           2       Adult  \n",
       "1             Mrs           2       Adult  \n",
       "2            Miss           1       Adult  \n",
       "3             Mrs           2       Adult  \n",
       "4              Mr           1       Adult  \n",
       "..            ...         ...         ...  \n",
       "886           Rev           1       Adult  \n",
       "887          Miss           1    Teenager  \n",
       "888          Miss           4     Unknown  \n",
       "889            Mr           1       Adult  \n",
       "890            Mr           1       Adult  \n",
       "\n",
       "[891 rows x 12 columns]"
      ]
     },
     "execution_count": 492,
     "metadata": {},
     "output_type": "execute_result"
    }
   ],
   "source": [
    "data.drop([\"PassengerId\" , \"Name\" , \"Cabin\"] , axis=1)"
   ]
  },
  {
   "cell_type": "markdown",
   "id": "65903b4e",
   "metadata": {
    "papermill": {
     "duration": null,
     "end_time": null,
     "exception": null,
     "start_time": null,
     "status": "pending"
    },
    "tags": []
   },
   "source": [
    "# Correlition"
   ]
  },
  {
   "cell_type": "code",
   "execution_count": 493,
   "id": "de731f08",
   "metadata": {
    "execution": {
     "iopub.execute_input": "2024-10-21T23:51:55.297668Z",
     "iopub.status.busy": "2024-10-21T23:51:55.297250Z",
     "iopub.status.idle": "2024-10-21T23:51:55.309503Z",
     "shell.execute_reply": "2024-10-21T23:51:55.308250Z",
     "shell.execute_reply.started": "2024-10-21T23:51:55.297626Z"
    },
    "papermill": {
     "duration": null,
     "end_time": null,
     "exception": null,
     "start_time": null,
     "status": "pending"
    },
    "tags": []
   },
   "outputs": [
    {
     "data": {
      "text/plain": [
       "Survived       1.000000\n",
       "Pclass         0.338481\n",
       "Fare           0.257307\n",
       "Ticket         0.129815\n",
       "Parch          0.081629\n",
       "Age            0.077221\n",
       "SibSp          0.035322\n",
       "FamilySize     0.016639\n",
       "PassengerId    0.005007\n",
       "Name: Survived, dtype: float64"
      ]
     },
     "execution_count": 493,
     "metadata": {},
     "output_type": "execute_result"
    }
   ],
   "source": [
    "survived_correlation = data.select_dtypes(include=[np.number]).corr()['Survived'].abs().sort_values(ascending=False)\n",
    "survived_correlation"
   ]
  },
  {
   "cell_type": "code",
   "execution_count": 494,
   "id": "8dea4444",
   "metadata": {
    "execution": {
     "iopub.execute_input": "2024-10-21T23:51:55.311483Z",
     "iopub.status.busy": "2024-10-21T23:51:55.310992Z",
     "iopub.status.idle": "2024-10-21T23:51:55.895442Z",
     "shell.execute_reply": "2024-10-21T23:51:55.893986Z",
     "shell.execute_reply.started": "2024-10-21T23:51:55.311427Z"
    },
    "papermill": {
     "duration": null,
     "end_time": null,
     "exception": null,
     "start_time": null,
     "status": "pending"
    },
    "tags": []
   },
   "outputs": [
    {
     "data": {
      "image/png": "[encoded data removed]",
      "text/plain": [
       "<Figure size 800x600 with 2 Axes>"
      ]
     },
     "metadata": {},
     "output_type": "display_data"
    }
   ],
   "source": [
    "plt.figure(figsize=(8, 6))\n",
    "sns.heatmap(data.select_dtypes(include=[np.number]).corr().abs(), annot=True, cmap='coolwarm', square=True, fmt=\".2f\")\n",
    "plt.title('Correlation Matrix')\n",
    "plt.show()"
   ]
  },
  {
   "cell_type": "markdown",
   "id": "cb7c11c5",
   "metadata": {
    "papermill": {
     "duration": null,
     "end_time": null,
     "exception": null,
     "start_time": null,
     "status": "pending"
    },
    "tags": []
   },
   "source": [
    "# Data Spiliting"
   ]
  },
  {
   "cell_type": "code",
   "execution_count": 495,
   "id": "3132be6a",
   "metadata": {
    "execution": {
     "iopub.execute_input": "2024-10-21T23:51:55.897712Z",
     "iopub.status.busy": "2024-10-21T23:51:55.897210Z",
     "iopub.status.idle": "2024-10-21T23:51:55.909662Z",
     "shell.execute_reply": "2024-10-21T23:51:55.908426Z",
     "shell.execute_reply.started": "2024-10-21T23:51:55.897656Z"
    },
    "papermill": {
     "duration": null,
     "end_time": null,
     "exception": null,
     "start_time": null,
     "status": "pending"
    },
    "tags": []
   },
   "outputs": [],
   "source": [
    "from sklearn.model_selection import train_test_split\n",
    "\n",
    "x = data.drop(columns=[\"Survived\"]) \n",
    "y = data[\"Survived\"] \n",
    "\n",
    "\n",
    "xtrain, xtest, ytrain, ytest = train_test_split(x, y, test_size=0.2, random_state=42)"
   ]
  },
  {
   "cell_type": "markdown",
   "id": "a26efb2c",
   "metadata": {
    "papermill": {
     "duration": null,
     "end_time": null,
     "exception": null,
     "start_time": null,
     "status": "pending"
    },
    "tags": []
   },
   "source": [
    "# Date Preprossesing"
   ]
  },
  {
   "cell_type": "code",
   "execution_count": 496,
   "id": "46b73a2c",
   "metadata": {
    "execution": {
     "iopub.execute_input": "2024-10-21T23:51:55.911667Z",
     "iopub.status.busy": "2024-10-21T23:51:55.911226Z",
     "iopub.status.idle": "2024-10-21T23:51:55.926044Z",
     "shell.execute_reply": "2024-10-21T23:51:55.924744Z",
     "shell.execute_reply.started": "2024-10-21T23:51:55.911624Z"
    },
    "papermill": {
     "duration": null,
     "end_time": null,
     "exception": null,
     "start_time": null,
     "status": "pending"
    },
    "tags": []
   },
   "outputs": [],
   "source": [
    "num_cols = x.select_dtypes(include=\"number\").columns.tolist()\n",
    "\n",
    "cat_cols = x.select_dtypes(include=\"object\").columns.tolist()\n",
    "cat_cols = [col for col in cat_cols if col not in [\"Pclass\", \"Embarked\"]]\n",
    "\n",
    "ord_cols = [\"Pclass\", \"Embarked\"]"
   ]
  },
  {
   "cell_type": "code",
   "execution_count": 497,
   "id": "6b189f21",
   "metadata": {
    "execution": {
     "iopub.execute_input": "2024-10-21T23:51:55.928513Z",
     "iopub.status.busy": "2024-10-21T23:51:55.927896Z",
     "iopub.status.idle": "2024-10-21T23:51:57.022143Z",
     "shell.execute_reply": "2024-10-21T23:51:57.020335Z",
     "shell.execute_reply.started": "2024-10-21T23:51:55.928457Z"
    },
    "papermill": {
     "duration": null,
     "end_time": null,
     "exception": null,
     "start_time": null,
     "status": "pending"
    },
    "tags": []
   },
   "outputs": [],
   "source": [
    "from sklearn.compose import make_column_transformer\n",
    "from sklearn.pipeline import make_pipeline\n",
    "from sklearn.impute import SimpleImputer\n",
    "from sklearn.preprocessing import OrdinalEncoder, StandardScaler\n",
    "from category_encoders import BinaryEncoder\n",
    "\n",
    "# Numeric columns pipeline\n",
    "num_pipeline = make_pipeline(SimpleImputer(strategy='median'),\n",
    "                            StandardScaler())\n",
    "\n",
    "# Categorical columns pipeline\n",
    "cat_pipeline = make_pipeline(SimpleImputer(strategy='constant', fill_value='Unknown'),\n",
    "                             BinaryEncoder())\n",
    "\n",
    "# Ordinal columns pipeline\n",
    "ord_pipeline =  make_pipeline(SimpleImputer(strategy='most_frequent'),\n",
    "                              OrdinalEncoder())\n",
    "\n",
    "# Ensure correct columns are passed to the right pipelines\n",
    "full_pipeline = make_column_transformer((num_pipeline, num_cols),\n",
    "                                        (cat_pipeline, cat_cols),\n",
    "                                        (ord_pipeline, ord_cols))\n",
    "\n",
    "# Fit and transform training and test data\n",
    "xtrain_prep = full_pipeline.fit_transform(xtrain)"
   ]
  },
  {
   "cell_type": "markdown",
   "id": "e370a312",
   "metadata": {
    "papermill": {
     "duration": null,
     "end_time": null,
     "exception": null,
     "start_time": null,
     "status": "pending"
    },
    "tags": []
   },
   "source": [
    "# Model Builiding"
   ]
  },
  {
   "cell_type": "code",
   "execution_count": 498,
   "id": "a3deb878",
   "metadata": {
    "execution": {
     "iopub.status.busy": "2024-10-21T23:51:57.023832Z",
     "iopub.status.idle": "2024-10-21T23:51:57.024447Z",
     "shell.execute_reply": "2024-10-21T23:51:57.024150Z",
     "shell.execute_reply.started": "2024-10-21T23:51:57.024121Z"
    },
    "papermill": {
     "duration": null,
     "end_time": null,
     "exception": null,
     "start_time": null,
     "status": "pending"
    },
    "tags": []
   },
   "outputs": [],
   "source": [
    "from sklearn.linear_model import LogisticRegression\n",
    "\n",
    "# Initialize and train the logistic regression model\n",
    "log_reg = LogisticRegression(random_state=42)\n",
    "log_reg.fit(xtrain_prep, ytrain)  # Fit with training data (features and labels)\n",
    "\n",
    "# To make predictions on the test set:\n",
    "y_pred = log_reg.predict_proba(xtrain_prep)"
   ]
  },
  {
   "cell_type": "code",
   "execution_count": 499,
   "id": "f4a20dfc",
   "metadata": {},
   "outputs": [
    {
     "data": {
      "text/plain": [
       "array([0.74162148, 0.74102084, 0.89878866, 0.89807379, 0.70244534,\n",
       "       0.30995182, 0.79876785, 0.680559  , 0.92236424, 0.60910613,\n",
       "       0.08841572, 0.9247299 , 0.76905862, 0.8743034 , 0.87225287,\n",
       "       0.20582611, 0.04777117, 0.03167921, 0.83299738, 0.03584306,\n",
       "       0.76850851, 0.94637083, 0.43622916, 0.16296798, 0.19479114,\n",
       "       0.71276771, 0.20611893, 0.83410568, 0.7438462 , 0.85224216,\n",
       "       0.9400786 , 0.44809341, 0.86167114, 0.06265617, 0.89463426,\n",
       "       0.78360783, 0.71845727, 0.30332578, 0.76435826, 0.03952959,\n",
       "       0.88679706, 0.89412482, 0.16183142, 0.89137639, 0.63233187,\n",
       "       0.76972033, 0.08302037, 0.83706952, 0.13654532, 0.07329723,\n",
       "       0.38515887, 0.83394952, 0.10024516, 0.90287599, 0.11735094,\n",
       "       0.89815956, 0.25845707, 0.01651485, 0.27871269, 0.05045523,\n",
       "       0.57106275, 0.82927439, 0.11879008, 0.88369221, 0.37437128,\n",
       "       0.82624989, 0.90611325, 0.92927729, 0.87458339, 0.87693408,\n",
       "       0.87641823, 0.35368954, 0.88124922, 0.89497011, 0.78734158,\n",
       "       0.51498645, 0.84918386, 0.82434073, 0.09112062, 0.8496202 ,\n",
       "       0.12962972, 0.0916616 , 0.75001456, 0.40585021, 0.89539805,\n",
       "       0.8115366 , 0.86861089, 0.85903455, 0.52616299, 0.15096104,\n",
       "       0.93173928, 0.30797771, 0.93382865, 0.93869685, 0.72226113,\n",
       "       0.09997645, 0.88749129, 0.84209574, 0.80282886, 0.0205327 ,\n",
       "       0.79808355, 0.93813698, 0.90556956, 0.03768942, 0.92006144,\n",
       "       0.56279348, 0.81948153, 0.36128995, 0.96175685, 0.25045629,\n",
       "       0.45813416, 0.87536337, 0.91819191, 0.20424151, 0.26531269,\n",
       "       0.85411214, 0.78634221, 0.895542  , 0.85953186, 0.81421893,\n",
       "       0.25393599, 0.1907253 , 0.72312454, 0.84907504, 0.73134032,\n",
       "       0.84230213, 0.41607612, 0.9015848 , 0.38053389, 0.77013505,\n",
       "       0.80760199, 0.78986759, 0.12025215, 0.81665824, 0.93610782,\n",
       "       0.92690886, 0.21760892, 0.12389678, 0.12160529, 0.35553857,\n",
       "       0.57548728, 0.7342752 , 0.8296183 , 0.88653216, 0.90957613,\n",
       "       0.50202048, 0.42355493, 0.91101928, 0.57070674, 0.75784733,\n",
       "       0.93921369, 0.77350261, 0.90531272, 0.19833842, 0.79397891,\n",
       "       0.89622125, 0.67710197, 0.08504775, 0.19027055, 0.82085284,\n",
       "       0.90189841, 0.92581423, 0.87839096, 0.87428971, 0.9293837 ,\n",
       "       0.90345125, 0.93983956, 0.04273733, 0.83558839, 0.62538652,\n",
       "       0.89221665, 0.03029313, 0.85857544, 0.91001549, 0.70617427,\n",
       "       0.78585351, 0.90020468, 0.75716356, 0.90445387, 0.76774555,\n",
       "       0.89594496, 0.45799782, 0.26353006, 0.22514455, 0.96780327,\n",
       "       0.21900579, 0.43345741, 0.7956815 , 0.91361517, 0.85562424,\n",
       "       0.56042936, 0.05882076, 0.86346078, 0.92814267, 0.90049099,\n",
       "       0.95816824, 0.97414901, 0.26658338, 0.36191949, 0.17563828,\n",
       "       0.90777398, 0.09710383, 0.72280776, 0.03903066, 0.0689215 ,\n",
       "       0.867635  , 0.88500947, 0.86589823, 0.52202712, 0.93637456,\n",
       "       0.76886577, 0.21299045, 0.37613533, 0.02885933, 0.57422873,\n",
       "       0.05830333, 0.12030634, 0.78184492, 0.9499964 , 0.78750358,\n",
       "       0.2082094 , 0.03388099, 0.93313128, 0.03043319, 0.95680698,\n",
       "       0.02534527, 0.48485649, 0.03842697, 0.9563654 , 0.14364827,\n",
       "       0.4366089 , 0.85678688, 0.99822701, 0.1543644 , 0.04915801,\n",
       "       0.74483435, 0.28949671, 0.14038018, 0.78021899, 0.93818695,\n",
       "       0.32353286, 0.0564108 , 0.95279095, 0.36334572, 0.92232739,\n",
       "       0.9079365 , 0.93062644, 0.19803439, 0.95993549, 0.04749029,\n",
       "       0.24223308, 0.16371342, 0.78408778, 0.32397419, 0.75757503,\n",
       "       0.67008454, 0.97398318, 0.90123529, 0.93996107, 0.94582423,\n",
       "       0.89508477, 0.92145608, 0.91758971, 0.94989461, 0.86011682,\n",
       "       0.75600962, 0.65269187, 0.89578355, 0.21401231, 0.71806083,\n",
       "       0.84357077, 0.4331844 , 0.68087315, 0.33977048, 0.84668189,\n",
       "       0.92227159, 0.90519065, 0.86219188, 0.28409332, 0.84655469,\n",
       "       0.8760605 , 0.91169106, 0.79477196, 0.13095624, 0.9408659 ,\n",
       "       0.7775839 , 0.87553483, 0.81866101, 0.86502656, 0.05636465,\n",
       "       0.46214836, 0.09807825, 0.86802062, 0.76923136, 0.62399487,\n",
       "       0.04449607, 0.018925  , 0.79163581, 0.01564803, 0.04940277,\n",
       "       0.79370642, 0.00727345, 0.17059193, 0.04829088, 0.88729698,\n",
       "       0.94250201, 0.94302483, 0.9360713 , 0.32143142, 0.24518084,\n",
       "       0.87630536, 0.06112711, 0.80585746, 0.83131189, 0.9236687 ,\n",
       "       0.12609757, 0.89719362, 0.67609308, 0.65127271, 0.89231567,\n",
       "       0.47260296, 0.05166698, 0.96318252, 0.88633219, 0.2580213 ,\n",
       "       0.87333046, 0.90045119, 0.8930832 , 0.92924992, 0.21909332,\n",
       "       0.82859709, 0.13553695, 0.66350711, 0.69079608, 0.82492736,\n",
       "       0.90772639, 0.93952137, 0.11650474, 0.22825723, 0.94551892,\n",
       "       0.0917086 , 0.90634934, 0.90863256, 0.12896673, 0.98091461,\n",
       "       0.54192385, 0.90897001, 0.38003426, 0.509623  , 0.60194887,\n",
       "       0.95391079, 0.37397844, 0.6181206 , 0.74459232, 0.9360883 ,\n",
       "       0.84721972, 0.93675644, 0.86294241, 0.19416386, 0.83855732,\n",
       "       0.84320227, 0.1537114 , 0.12309411, 0.79767792, 0.06191649,\n",
       "       0.05298479, 0.83874626, 0.07214713, 0.98492865, 0.96216037,\n",
       "       0.18145046, 0.70895678, 0.35706748, 0.95101391, 0.38247445,\n",
       "       0.87893867, 0.18838824, 0.92173297, 0.33147802, 0.86454955,\n",
       "       0.85619787, 0.73911498, 0.76346807, 0.96157332, 0.96374681,\n",
       "       0.0270392 , 0.89604499, 0.71949436, 0.19385606, 0.92901118,\n",
       "       0.91935981, 0.92101008, 0.87468517, 0.89492688, 0.57411463,\n",
       "       0.28968908, 0.86857484, 0.93878554, 0.86064449, 0.90709396,\n",
       "       0.68721741, 0.63510527, 0.40073657, 0.90378475, 0.92793081,\n",
       "       0.38494399, 0.03457395, 0.92856734, 0.93587518, 0.45061649,\n",
       "       0.8421446 , 0.45258131, 0.90074756, 0.76984029, 0.90829405,\n",
       "       0.72807457, 0.96108787, 0.93817368, 0.92183457, 0.86909251,\n",
       "       0.35410787, 0.80373969, 0.10613163, 0.86754829, 0.79214218,\n",
       "       0.30960447, 0.87864834, 0.64992365, 0.08231554, 0.01689126,\n",
       "       0.90240501, 0.45340663, 0.83918741, 0.90240958, 0.09273494,\n",
       "       0.26783417, 0.83219734, 0.90930629, 0.50511025, 0.90662318,\n",
       "       0.10448626, 0.91860131, 0.06939411, 0.85880442, 0.89330902,\n",
       "       0.89261711, 0.63650041, 0.08922198, 0.96147569, 0.79583516,\n",
       "       0.88667743, 0.6131417 , 0.51485362, 0.91801679, 0.6883688 ,\n",
       "       0.89538102, 0.87109847, 0.91844131, 0.89071522, 0.57269735,\n",
       "       0.91276799, 0.04972377, 0.27503038, 0.1436923 , 0.02240548,\n",
       "       0.14275819, 0.92688087, 0.96896547, 0.97693146, 0.21705572,\n",
       "       0.40686588, 0.41491729, 0.9302163 , 0.832974  , 0.29229829,\n",
       "       0.94332538, 0.92527425, 0.43622285, 0.26493773, 0.63713043,\n",
       "       0.95821785, 0.90653371, 0.50612663, 0.87359199, 0.084544  ,\n",
       "       0.87742936, 0.84894136, 0.01728752, 0.79047859, 0.88981268,\n",
       "       0.55977557, 0.81937217, 0.14000293, 0.4084833 , 0.8921242 ,\n",
       "       0.98325133, 0.89293687, 0.93803712, 0.91199349, 0.88486158,\n",
       "       0.19429651, 0.90511978, 0.95003185, 0.42723947, 0.64894129,\n",
       "       0.47831919, 0.42821878, 0.47240375, 0.33472997, 0.72863127,\n",
       "       0.62152335, 0.87286835, 0.72855471, 0.93356027, 0.94770678,\n",
       "       0.80419069, 0.51359682, 0.02437387, 0.04640472, 0.09363279,\n",
       "       0.86893471, 0.30426041, 0.93101728, 0.6833349 , 0.99799166,\n",
       "       0.7941559 , 0.18461252, 0.31379761, 0.47843963, 0.96125928,\n",
       "       0.947157  , 0.86327851, 0.35856802, 0.81080327, 0.94869674,\n",
       "       0.48342796, 0.29606291, 0.02028437, 0.86307387, 0.0471831 ,\n",
       "       0.4594116 , 0.79268236, 0.73524703, 0.99199548, 0.87562515,\n",
       "       0.83833166, 0.24902784, 0.53352903, 0.28947752, 0.41351762,\n",
       "       0.3656156 , 0.78731747, 0.91539227, 0.89758258, 0.42241256,\n",
       "       0.79522404, 0.62273514, 0.58033622, 0.71709139, 0.20176133,\n",
       "       0.9547665 , 0.96290395, 0.90176655, 0.86487986, 0.92582959,\n",
       "       0.91125201, 0.62930268, 0.08416242, 0.49146445, 0.90406938,\n",
       "       0.07373346, 0.79449809, 0.98611422, 0.08582024, 0.38804055,\n",
       "       0.49072798, 0.96386134, 0.52322365, 0.57943946, 0.5383656 ,\n",
       "       0.9171231 , 0.82786929, 0.87192313, 0.80548501, 0.01686263,\n",
       "       0.57970777, 0.79316818, 0.87566387, 0.79881548, 0.86460411,\n",
       "       0.87379097, 0.95587195, 0.05451223, 0.91569191, 0.74855027,\n",
       "       0.92898445, 0.64254512, 0.4163517 , 0.57371055, 0.03858823,\n",
       "       0.7183184 , 0.40728115, 0.36503326, 0.29455325, 0.73585819,\n",
       "       0.89271492, 0.84223948, 0.04948204, 0.402007  , 0.02270507,\n",
       "       0.04085249, 0.49739528, 0.89377525, 0.5898592 , 0.69687508,\n",
       "       0.32887042, 0.1397108 , 0.137885  , 0.88239405, 0.75398041,\n",
       "       0.02860956, 0.04456782, 0.99826056, 0.12851586, 0.82808143,\n",
       "       0.46663204, 0.90562398, 0.32467576, 0.88409818, 0.94731121,\n",
       "       0.9156476 , 0.91517695, 0.13510056, 0.00916714, 0.8679628 ,\n",
       "       0.91557422, 0.86642107, 0.1541911 , 0.59129684, 0.90039262,\n",
       "       0.91213437, 0.30465565, 0.95558625, 0.02958645, 0.91223825,\n",
       "       0.61178895, 0.63965425, 0.21657812, 0.82194798, 0.58910927,\n",
       "       0.99310887, 0.37548178, 0.17621664, 0.28378476, 0.39723099,\n",
       "       0.13642672, 0.85202729, 0.92135828, 0.96113019, 0.41594625,\n",
       "       0.96265587, 0.04414247, 0.49990727, 0.88216909, 0.90492924,\n",
       "       0.81625835, 0.98876081, 0.917786  , 0.5749332 , 0.86474771,\n",
       "       0.71001776, 0.23704437, 0.87456609, 0.32267837, 0.39108688,\n",
       "       0.91282754, 0.2627263 , 0.72222169, 0.68782519, 0.85943962,\n",
       "       0.90288478, 0.95428151, 0.57123977, 0.75427219, 0.72516842,\n",
       "       0.85586388, 0.8721898 , 0.91705136, 0.8336127 , 0.90214919,\n",
       "       0.83201154, 0.89650542, 0.87977883, 0.91582364, 0.09984371,\n",
       "       0.86347342, 0.88689777, 0.93594207, 0.44606464, 0.62653128,\n",
       "       0.94404427, 0.87009124, 0.93883   , 0.92975315, 0.89759046,\n",
       "       0.01133342, 0.94648798, 0.465964  , 0.85995901, 0.97885603,\n",
       "       0.26985335, 0.47532393])"
      ]
     },
     "execution_count": 499,
     "metadata": {},
     "output_type": "execute_result"
    }
   ],
   "source": [
    "y_pred[:,0]"
   ]
  },
  {
   "cell_type": "code",
   "execution_count": 500,
   "id": "d8fcec7b",
   "metadata": {},
   "outputs": [
    {
     "data": {
      "text/plain": [
       "array([0.25837852, 0.25897916, 0.10121134, 0.10192621, 0.29755466,\n",
       "       0.69004818, 0.20123215, 0.319441  , 0.07763576, 0.39089387,\n",
       "       0.91158428, 0.0752701 , 0.23094138, 0.1256966 , 0.12774713,\n",
       "       0.79417389, 0.95222883, 0.96832079, 0.16700262, 0.96415694,\n",
       "       0.23149149, 0.05362917, 0.56377084, 0.83703202, 0.80520886,\n",
       "       0.28723229, 0.79388107, 0.16589432, 0.2561538 , 0.14775784,\n",
       "       0.0599214 , 0.55190659, 0.13832886, 0.93734383, 0.10536574,\n",
       "       0.21639217, 0.28154273, 0.69667422, 0.23564174, 0.96047041,\n",
       "       0.11320294, 0.10587518, 0.83816858, 0.10862361, 0.36766813,\n",
       "       0.23027967, 0.91697963, 0.16293048, 0.86345468, 0.92670277,\n",
       "       0.61484113, 0.16605048, 0.89975484, 0.09712401, 0.88264906,\n",
       "       0.10184044, 0.74154293, 0.98348515, 0.72128731, 0.94954477,\n",
       "       0.42893725, 0.17072561, 0.88120992, 0.11630779, 0.62562872,\n",
       "       0.17375011, 0.09388675, 0.07072271, 0.12541661, 0.12306592,\n",
       "       0.12358177, 0.64631046, 0.11875078, 0.10502989, 0.21265842,\n",
       "       0.48501355, 0.15081614, 0.17565927, 0.90887938, 0.1503798 ,\n",
       "       0.87037028, 0.9083384 , 0.24998544, 0.59414979, 0.10460195,\n",
       "       0.1884634 , 0.13138911, 0.14096545, 0.47383701, 0.84903896,\n",
       "       0.06826072, 0.69202229, 0.06617135, 0.06130315, 0.27773887,\n",
       "       0.90002355, 0.11250871, 0.15790426, 0.19717114, 0.9794673 ,\n",
       "       0.20191645, 0.06186302, 0.09443044, 0.96231058, 0.07993856,\n",
       "       0.43720652, 0.18051847, 0.63871005, 0.03824315, 0.74954371,\n",
       "       0.54186584, 0.12463663, 0.08180809, 0.79575849, 0.73468731,\n",
       "       0.14588786, 0.21365779, 0.104458  , 0.14046814, 0.18578107,\n",
       "       0.74606401, 0.8092747 , 0.27687546, 0.15092496, 0.26865968,\n",
       "       0.15769787, 0.58392388, 0.0984152 , 0.61946611, 0.22986495,\n",
       "       0.19239801, 0.21013241, 0.87974785, 0.18334176, 0.06389218,\n",
       "       0.07309114, 0.78239108, 0.87610322, 0.87839471, 0.64446143,\n",
       "       0.42451272, 0.2657248 , 0.1703817 , 0.11346784, 0.09042387,\n",
       "       0.49797952, 0.57644507, 0.08898072, 0.42929326, 0.24215267,\n",
       "       0.06078631, 0.22649739, 0.09468728, 0.80166158, 0.20602109,\n",
       "       0.10377875, 0.32289803, 0.91495225, 0.80972945, 0.17914716,\n",
       "       0.09810159, 0.07418577, 0.12160904, 0.12571029, 0.0706163 ,\n",
       "       0.09654875, 0.06016044, 0.95726267, 0.16441161, 0.37461348,\n",
       "       0.10778335, 0.96970687, 0.14142456, 0.08998451, 0.29382573,\n",
       "       0.21414649, 0.09979532, 0.24283644, 0.09554613, 0.23225445,\n",
       "       0.10405504, 0.54200218, 0.73646994, 0.77485545, 0.03219673,\n",
       "       0.78099421, 0.56654259, 0.2043185 , 0.08638483, 0.14437576,\n",
       "       0.43957064, 0.94117924, 0.13653922, 0.07185733, 0.09950901,\n",
       "       0.04183176, 0.02585099, 0.73341662, 0.63808051, 0.82436172,\n",
       "       0.09222602, 0.90289617, 0.27719224, 0.96096934, 0.9310785 ,\n",
       "       0.132365  , 0.11499053, 0.13410177, 0.47797288, 0.06362544,\n",
       "       0.23113423, 0.78700955, 0.62386467, 0.97114067, 0.42577127,\n",
       "       0.94169667, 0.87969366, 0.21815508, 0.0500036 , 0.21249642,\n",
       "       0.7917906 , 0.96611901, 0.06686872, 0.96956681, 0.04319302,\n",
       "       0.97465473, 0.51514351, 0.96157303, 0.0436346 , 0.85635173,\n",
       "       0.5633911 , 0.14321312, 0.00177299, 0.8456356 , 0.95084199,\n",
       "       0.25516565, 0.71050329, 0.85961982, 0.21978101, 0.06181305,\n",
       "       0.67646714, 0.9435892 , 0.04720905, 0.63665428, 0.07767261,\n",
       "       0.0920635 , 0.06937356, 0.80196561, 0.04006451, 0.95250971,\n",
       "       0.75776692, 0.83628658, 0.21591222, 0.67602581, 0.24242497,\n",
       "       0.32991546, 0.02601682, 0.09876471, 0.06003893, 0.05417577,\n",
       "       0.10491523, 0.07854392, 0.08241029, 0.05010539, 0.13988318,\n",
       "       0.24399038, 0.34730813, 0.10421645, 0.78598769, 0.28193917,\n",
       "       0.15642923, 0.5668156 , 0.31912685, 0.66022952, 0.15331811,\n",
       "       0.07772841, 0.09480935, 0.13780812, 0.71590668, 0.15344531,\n",
       "       0.1239395 , 0.08830894, 0.20522804, 0.86904376, 0.0591341 ,\n",
       "       0.2224161 , 0.12446517, 0.18133899, 0.13497344, 0.94363535,\n",
       "       0.53785164, 0.90192175, 0.13197938, 0.23076864, 0.37600513,\n",
       "       0.95550393, 0.981075  , 0.20836419, 0.98435197, 0.95059723,\n",
       "       0.20629358, 0.99272655, 0.82940807, 0.95170912, 0.11270302,\n",
       "       0.05749799, 0.05697517, 0.0639287 , 0.67856858, 0.75481916,\n",
       "       0.12369464, 0.93887289, 0.19414254, 0.16868811, 0.0763313 ,\n",
       "       0.87390243, 0.10280638, 0.32390692, 0.34872729, 0.10768433,\n",
       "       0.52739704, 0.94833302, 0.03681748, 0.11366781, 0.7419787 ,\n",
       "       0.12666954, 0.09954881, 0.1069168 , 0.07075008, 0.78090668,\n",
       "       0.17140291, 0.86446305, 0.33649289, 0.30920392, 0.17507264,\n",
       "       0.09227361, 0.06047863, 0.88349526, 0.77174277, 0.05448108,\n",
       "       0.9082914 , 0.09365066, 0.09136744, 0.87103327, 0.01908539,\n",
       "       0.45807615, 0.09102999, 0.61996574, 0.490377  , 0.39805113,\n",
       "       0.04608921, 0.62602156, 0.3818794 , 0.25540768, 0.0639117 ,\n",
       "       0.15278028, 0.06324356, 0.13705759, 0.80583614, 0.16144268,\n",
       "       0.15679773, 0.8462886 , 0.87690589, 0.20232208, 0.93808351,\n",
       "       0.94701521, 0.16125374, 0.92785287, 0.01507135, 0.03783963,\n",
       "       0.81854954, 0.29104322, 0.64293252, 0.04898609, 0.61752555,\n",
       "       0.12106133, 0.81161176, 0.07826703, 0.66852198, 0.13545045,\n",
       "       0.14380213, 0.26088502, 0.23653193, 0.03842668, 0.03625319,\n",
       "       0.9729608 , 0.10395501, 0.28050564, 0.80614394, 0.07098882,\n",
       "       0.08064019, 0.07898992, 0.12531483, 0.10507312, 0.42588537,\n",
       "       0.71031092, 0.13142516, 0.06121446, 0.13935551, 0.09290604,\n",
       "       0.31278259, 0.36489473, 0.59926343, 0.09621525, 0.07206919,\n",
       "       0.61505601, 0.96542605, 0.07143266, 0.06412482, 0.54938351,\n",
       "       0.1578554 , 0.54741869, 0.09925244, 0.23015971, 0.09170595,\n",
       "       0.27192543, 0.03891213, 0.06182632, 0.07816543, 0.13090749,\n",
       "       0.64589213, 0.19626031, 0.89386837, 0.13245171, 0.20785782,\n",
       "       0.69039553, 0.12135166, 0.35007635, 0.91768446, 0.98310874,\n",
       "       0.09759499, 0.54659337, 0.16081259, 0.09759042, 0.90726506,\n",
       "       0.73216583, 0.16780266, 0.09069371, 0.49488975, 0.09337682,\n",
       "       0.89551374, 0.08139869, 0.93060589, 0.14119558, 0.10669098,\n",
       "       0.10738289, 0.36349959, 0.91077802, 0.03852431, 0.20416484,\n",
       "       0.11332257, 0.3868583 , 0.48514638, 0.08198321, 0.3116312 ,\n",
       "       0.10461898, 0.12890153, 0.08155869, 0.10928478, 0.42730265,\n",
       "       0.08723201, 0.95027623, 0.72496962, 0.8563077 , 0.97759452,\n",
       "       0.85724181, 0.07311913, 0.03103453, 0.02306854, 0.78294428,\n",
       "       0.59313412, 0.58508271, 0.0697837 , 0.167026  , 0.70770171,\n",
       "       0.05667462, 0.07472575, 0.56377715, 0.73506227, 0.36286957,\n",
       "       0.04178215, 0.09346629, 0.49387337, 0.12640801, 0.915456  ,\n",
       "       0.12257064, 0.15105864, 0.98271248, 0.20952141, 0.11018732,\n",
       "       0.44022443, 0.18062783, 0.85999707, 0.5915167 , 0.1078758 ,\n",
       "       0.01674867, 0.10706313, 0.06196288, 0.08800651, 0.11513842,\n",
       "       0.80570349, 0.09488022, 0.04996815, 0.57276053, 0.35105871,\n",
       "       0.52168081, 0.57178122, 0.52759625, 0.66527003, 0.27136873,\n",
       "       0.37847665, 0.12713165, 0.27144529, 0.06643973, 0.05229322,\n",
       "       0.19580931, 0.48640318, 0.97562613, 0.95359528, 0.90636721,\n",
       "       0.13106529, 0.69573959, 0.06898272, 0.3166651 , 0.00200834,\n",
       "       0.2058441 , 0.81538748, 0.68620239, 0.52156037, 0.03874072,\n",
       "       0.052843  , 0.13672149, 0.64143198, 0.18919673, 0.05130326,\n",
       "       0.51657204, 0.70393709, 0.97971563, 0.13692613, 0.9528169 ,\n",
       "       0.5405884 , 0.20731764, 0.26475297, 0.00800452, 0.12437485,\n",
       "       0.16166834, 0.75097216, 0.46647097, 0.71052248, 0.58648238,\n",
       "       0.6343844 , 0.21268253, 0.08460773, 0.10241742, 0.57758744,\n",
       "       0.20477596, 0.37726486, 0.41966378, 0.28290861, 0.79823867,\n",
       "       0.0452335 , 0.03709605, 0.09823345, 0.13512014, 0.07417041,\n",
       "       0.08874799, 0.37069732, 0.91583758, 0.50853555, 0.09593062,\n",
       "       0.92626654, 0.20550191, 0.01388578, 0.91417976, 0.61195945,\n",
       "       0.50927202, 0.03613866, 0.47677635, 0.42056054, 0.4616344 ,\n",
       "       0.0828769 , 0.17213071, 0.12807687, 0.19451499, 0.98313737,\n",
       "       0.42029223, 0.20683182, 0.12433613, 0.20118452, 0.13539589,\n",
       "       0.12620903, 0.04412805, 0.94548777, 0.08430809, 0.25144973,\n",
       "       0.07101555, 0.35745488, 0.5836483 , 0.42628945, 0.96141177,\n",
       "       0.2816816 , 0.59271885, 0.63496674, 0.70544675, 0.26414181,\n",
       "       0.10728508, 0.15776052, 0.95051796, 0.597993  , 0.97729493,\n",
       "       0.95914751, 0.50260472, 0.10622475, 0.4101408 , 0.30312492,\n",
       "       0.67112958, 0.8602892 , 0.862115  , 0.11760595, 0.24601959,\n",
       "       0.97139044, 0.95543218, 0.00173944, 0.87148414, 0.17191857,\n",
       "       0.53336796, 0.09437602, 0.67532424, 0.11590182, 0.05268879,\n",
       "       0.0843524 , 0.08482305, 0.86489944, 0.99083286, 0.1320372 ,\n",
       "       0.08442578, 0.13357893, 0.8458089 , 0.40870316, 0.09960738,\n",
       "       0.08786563, 0.69534435, 0.04441375, 0.97041355, 0.08776175,\n",
       "       0.38821105, 0.36034575, 0.78342188, 0.17805202, 0.41089073,\n",
       "       0.00689113, 0.62451822, 0.82378336, 0.71621524, 0.60276901,\n",
       "       0.86357328, 0.14797271, 0.07864172, 0.03886981, 0.58405375,\n",
       "       0.03734413, 0.95585753, 0.50009273, 0.11783091, 0.09507076,\n",
       "       0.18374165, 0.01123919, 0.082214  , 0.4250668 , 0.13525229,\n",
       "       0.28998224, 0.76295563, 0.12543391, 0.67732163, 0.60891312,\n",
       "       0.08717246, 0.7372737 , 0.27777831, 0.31217481, 0.14056038,\n",
       "       0.09711522, 0.04571849, 0.42876023, 0.24572781, 0.27483158,\n",
       "       0.14413612, 0.1278102 , 0.08294864, 0.1663873 , 0.09785081,\n",
       "       0.16798846, 0.10349458, 0.12022117, 0.08417636, 0.90015629,\n",
       "       0.13652658, 0.11310223, 0.06405793, 0.55393536, 0.37346872,\n",
       "       0.05595573, 0.12990876, 0.06117   , 0.07024685, 0.10240954,\n",
       "       0.98866658, 0.05351202, 0.534036  , 0.14004099, 0.02114397,\n",
       "       0.73014665, 0.52467607])"
      ]
     },
     "execution_count": 500,
     "metadata": {},
     "output_type": "execute_result"
    }
   ],
   "source": [
    "y_pred[:,1]"
   ]
  },
  {
   "cell_type": "code",
   "execution_count": 501,
   "id": "6f5d877e",
   "metadata": {},
   "outputs": [
    {
     "name": "stdout",
     "output_type": "stream",
     "text": [
      "Probability: 82.87%\n"
     ]
    }
   ],
   "source": [
    "from sklearn.metrics import accuracy_score\n",
    "\n",
    "y_pred_prob = log_reg.predict_proba(xtrain_prep)[:, 1]  \n",
    "y_pred = (y_pred_prob >= 0.5).astype(int)  \n",
    "\n",
    "# Now calculate accuracy\n",
    "accuracy = accuracy_score(ytrain, y_pred)\n",
    "print(f'Probability: {accuracy * 100:.2f}%')"
   ]
  },
  {
   "cell_type": "code",
   "execution_count": 502,
   "id": "5912e51d",
   "metadata": {},
   "outputs": [
    {
     "name": "stdout",
     "output_type": "stream",
     "text": [
      "Probability: 17.13%\n"
     ]
    }
   ],
   "source": [
    "from sklearn.metrics import accuracy_score\n",
    "\n",
    "y_pred_prob = log_reg.predict_proba(xtrain_prep)[:, 0]  \n",
    "y_pred = (y_pred_prob >= 0.5).astype(int)  \n",
    "\n",
    "# Now calculate accuracy\n",
    "accuracy = accuracy_score(ytrain, y_pred)\n",
    "print(f'Probability: {accuracy * 100:.2f}%')"
   ]
  },
  {
   "cell_type": "markdown",
   "id": "beaab215",
   "metadata": {},
   "source": [
    "# Save Pipeline & Model"
   ]
  },
  {
   "cell_type": "code",
   "execution_count": 503,
   "id": "f7b33b35",
   "metadata": {},
   "outputs": [
    {
     "data": {
      "text/plain": [
       "['log_reg_model.joblib']"
      ]
     },
     "execution_count": 503,
     "metadata": {},
     "output_type": "execute_result"
    }
   ],
   "source": [
    "from joblib import dump\n",
    "\n",
    "# Assuming `full_pipeline` is your pipeline\n",
    "dump(full_pipeline, 'pipeline.joblib')\n",
    "# Assuming `log_reg` is your trained model\n",
    "dump(log_reg, 'log_reg_model.joblib')"
   ]
  },
  {
   "cell_type": "markdown",
   "id": "bb86603b",
   "metadata": {},
   "source": [
    "#"
   ]
  },
  {
   "cell_type": "markdown",
   "id": "d87433f6",
   "metadata": {},
   "source": [
    "# Testing"
   ]
  },
  {
   "cell_type": "code",
   "execution_count": 504,
   "id": "06ad0013",
   "metadata": {},
   "outputs": [],
   "source": [
    "from joblib import load\n",
    "\n",
    "# Load the pipeline\n",
    "pipeline = load('pipeline.joblib')\n",
    "\n",
    "# Load the model\n",
    "log_reg = load('log_reg_model.joblib')"
   ]
  },
  {
   "cell_type": "code",
   "execution_count": 505,
   "id": "9d3d003b",
   "metadata": {},
   "outputs": [
    {
     "name": "stdout",
     "output_type": "stream",
     "text": [
      "Accuracy: 79.33%\n"
     ]
    }
   ],
   "source": [
    "# Preprocess the test data\n",
    "xtest_prep = pipeline.transform(xtest)\n",
    "\n",
    "# Make predictions\n",
    "predictions = log_reg.predict_proba(xtest_prep)[:, 1]\n",
    "pred = (predictions >= 0.5).astype(int)  \n",
    "\n",
    "# Calculate accuracy\n",
    "accuracy = accuracy_score(ytest, pred)\n",
    "print(f'Accuracy: {accuracy * 100:.2f}%')"
   ]
  },
  {
   "cell_type": "markdown",
   "id": "70e34748",
   "metadata": {},
   "source": [
    "Good Luck ❤"
   ]
  }
 ],
 "metadata": {
  "kaggle": {
   "accelerator": "none",
   "dataSources": [
    {
     "databundleVersionId": 26502,
     "sourceId": 3136,
     "sourceType": "competition"
    }
   ],
   "dockerImageVersionId": 30786,
   "isGpuEnabled": false,
   "isInternetEnabled": true,
   "language": "python",
   "sourceType": "notebook"
  },
  "kernelspec": {
   "display_name": "Python 3",
   "language": "python",
   "name": "python3"
  },
  "language_info": {
   "codemirror_mode": {
    "name": "ipython",
    "version": 3
   },
   "file_extension": ".py",
   "mimetype": "text/x-python",
   "name": "python",
   "nbconvert_exporter": "python",
   "pygments_lexer": "ipython3",
   "version": "3.12.7"
  },
  "papermill": {
   "default_parameters": {},
   "duration": 9.12122,
   "end_time": "2024-10-21T23:53:11.885274",
   "environment_variables": {},
   "exception": true,
   "input_path": "__notebook__.ipynb",
   "output_path": "__notebook__.ipynb",
   "parameters": {},
   "start_time": "2024-10-21T23:53:02.764054",
   "version": "2.6.0"
  }
 },
 "nbformat": 4,
 "nbformat_minor": 5
}
